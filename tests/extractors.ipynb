{
 "cells": [
  {
   "cell_type": "code",
   "execution_count": 21,
   "metadata": {},
   "outputs": [],
   "source": [
    "from basepair.extractors import extract_seq, Variant\n",
    "from pybedtools import Interval\n",
    "\n",
    "def interval():\n",
    "    return Interval(\"chr1\", 1, 3)\n",
    "\n",
    "def variant():\n",
    "    return Variant(\"chr1\", 2, \"C\", \"G\")\n",
    "\n",
    "def test_snp(interval, variant):\n",
    "    assert extract_seq(Interval(\"chr1\", 1, 3), \n",
    "                       Variant(\"chr1\", 2, \"C\", \"G\"), \n",
    "                       \"data/example.fa\") == \"GG\"\n",
    "\n",
    "def test_del(interval, variant):\n",
    "    assert extract_seq(Interval(\"chr1\", 1, 4), \n",
    "                       Variant(\"chr1\", 2, \"CG\", \"C\"), \n",
    "                       \"data/example.fa\") == \"CTC\"\n",
    "\n",
    "def test_ins(interval, variant):\n",
    "    assert extract_seq(Interval(\"chr1\", 1, 4), \n",
    "                       Variant(\"chr1\", 2, \"C\", \"CT\"), \n",
    "                       \"data/example.fa\") == \"CTG\""
   ]
  },
  {
   "cell_type": "code",
   "execution_count": null,
   "metadata": {},
   "outputs": [],
   "source": []
  }
 ],
 "metadata": {
  "kernelspec": {
   "display_name": "Python [default]",
   "language": "python",
   "name": "python3"
  },
  "language_info": {
   "codemirror_mode": {
    "name": "ipython",
    "version": 3
   },
   "file_extension": ".py",
   "mimetype": "text/x-python",
   "name": "python",
   "nbconvert_exporter": "python",
   "pygments_lexer": "ipython3",
   "version": "3.6.3"
  }
 },
 "nbformat": 4,
 "nbformat_minor": 2
}
