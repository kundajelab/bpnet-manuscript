{
 "cells": [
  {
   "cell_type": "markdown",
   "metadata": {},
   "source": [
    "## Get the QC metrics from the pipeline"
   ]
  },
  {
   "cell_type": "code",
   "execution_count": 141,
   "metadata": {},
   "outputs": [],
   "source": [
    "# Imports\n",
    "from basepair.imports import *\n",
    "from basepair.exp.paper.config import data_sheet"
   ]
  },
  {
   "cell_type": "code",
   "execution_count": 142,
   "metadata": {},
   "outputs": [],
   "source": [
    "reps = data_sheet()\n",
    "reps = reps[~reps['QC report'].isnull()]\n",
    "reps = reps[reps['TF Name'] != 'control']\n",
    "reps['Rep Number'] = reps['Rep Number'].astype(int)\n",
    "reps['id'] = [f\"{row['Data Type']}-{row['TF Name']}-{row['Rep Number']}\" for i,row in reps.iterrows()]\n",
    "reps = reps[reps['TF Name'].isin(['oct4', 'sox2', 'nanog', 'klf4'])]\n",
    "reps = reps[~((reps['TF Name'] == 'klf4')&(reps['Data Type'] == 'chipseq'))]"
   ]
  },
  {
   "cell_type": "code",
   "execution_count": 143,
   "metadata": {},
   "outputs": [],
   "source": [
    "# append QC columns to reps\n",
    "reps['QC_dir'] = reps['QC report'].str.replace('http://mitra.stanford.edu', '/srv/www').str.replace(\"/qc.html\", \"\")\n",
    "\n",
    "lrw = []\n",
    "for i, rw in reps.iterrows():\n",
    "    qc = read_json(f\"{rw.QC_dir}/qc.json\")\n",
    "    rw['idr_reproducibility_qc/rescue_ratio'] = qc['idr_reproducibility_qc']['rescue_ratio']\n",
    "    rw['idr_frip_qc/ppr/FRiP'] = qc['idr_frip_qc']['ppr']['FRiP']\n",
    "    lrw.append(rw)\n",
    "\n",
    "reps = pd.DataFrame(lrw)"
   ]
  },
  {
   "cell_type": "code",
   "execution_count": 144,
   "metadata": {},
   "outputs": [
    {
     "name": "stdout",
     "output_type": "stream",
     "text": [
      "   Mnemonic  Data Type TF Name  Rep Number Unique deduped reads  #Rep-IDRpeaks (N1, N2, ..)  #IDR-optimal peaks (Np)  idr_reproducibility_qc/rescue_ratio  idr_frip_qc/ppr/FRiP\n",
      "0       C01    chipseq    oct4           1                  27M                   10770.0                    19351.0                    1.2593                           0.0326\n",
      "1       C02    chipseq    oct4           2                  18M                   14402.0                    19351.0                    1.2593                           0.0326\n",
      "2       C03    chipseq    sox2           1                  19M                     255.0                     9497.0                    1.3098                           0.0085\n",
      "3       C04    chipseq    sox2           2                  49M                    8847.0                     9497.0                    1.3098                           0.0085\n",
      "4       C05    chipseq    sox2           3                  32M                    4202.0                     9497.0                    1.3098                           0.0085\n",
      "5       C06    chipseq   nanog           1                  48M                   33023.0                    40691.0                    1.0955                           0.0835\n",
      "6       C07    chipseq   nanog           2                  20M                   28619.0                    40691.0                    1.0955                           0.0835\n",
      "16      N01  chipnexus    oct4           1                  31M                    8772.0                    25849.0                    1.7319                           0.0455\n",
      "17      N02  chipnexus    oct4           2                  50M                   10548.0                    25849.0                    1.7319                           0.0455\n",
      "18      N03  chipnexus    oct4           3                  48M                    5996.0                    25849.0                    1.7319                           0.0455\n",
      "19      N04  chipnexus    oct4           4                  51M                    7572.0                    25849.0                    1.7319                           0.0455\n",
      "20      N05  chipnexus    oct4           5                  30M                    8226.0                    25849.0                    1.7319                           0.0455\n",
      "21      N06  chipnexus    oct4           6                  33M                    5265.0                    25849.0                    1.7319                           0.0455\n",
      "22      N07  chipnexus    sox2           1                  23M                    1914.0                    10999.0                    1.9843                           0.0174\n",
      "23      N08  chipnexus    sox2           2                  43M                    3003.0                    10999.0                    1.9843                           0.0174\n",
      "24      N09  chipnexus    sox2           3                  48M                    2150.0                    10999.0                    1.9843                           0.0174\n",
      "25      N10  chipnexus    sox2           4                  26M                   11317.0                    10999.0                    1.9843                           0.0174\n",
      "26      N11  chipnexus   nanog           1                  84M                   34226.0                    56459.0                    1.3328                           0.1425\n",
      "27      N12  chipnexus   nanog           2                  62M                   18905.0                    56459.0                    1.3328                           0.1425\n",
      "28      N13  chipnexus   nanog           3                  21M                   16845.0                    56459.0                    1.3328                           0.1425\n",
      "29      N14  chipnexus   nanog           4                  30M                   42672.0                    56459.0                    1.3328                           0.1425\n",
      "30      N15  chipnexus   nanog           5                  17M                   22156.0                    56459.0                    1.3328                           0.1425\n",
      "31      N16  chipnexus    klf4           1                  98M                   51653.0                    57601.0                    1.4316                           0.1351\n",
      "32      N17  chipnexus    klf4           2                  16M                    2524.0                    57601.0                    1.4316                           0.1351\n",
      "33      N18  chipnexus    klf4           3                  21M                   18662.0                    57601.0                    1.4316                           0.1351\n",
      "34      N19  chipnexus    klf4           4                  17M                    3183.0                    57601.0                    1.4316                           0.1351\n",
      "35      N20  chipnexus    klf4           5                  27M                    5332.0                    57601.0                    1.4316                           0.1351\n"
     ]
    }
   ],
   "source": [
    "qc_columns = ['Mnemonic', 'Data Type', 'TF Name', 'Rep Number', 'Unique deduped reads', '#Rep-IDRpeaks (N1, N2, ..)', '#IDR-optimal peaks (Np)', 'idr_reproducibility_qc/rescue_ratio', 'idr_frip_qc/ppr/FRiP']\n",
    "print(reps[qc_columns].to_string())"
   ]
  },
  {
   "cell_type": "code",
   "execution_count": 138,
   "metadata": {},
   "outputs": [],
   "source": [
    "ddir = get_data_dir()"
   ]
  },
  {
   "cell_type": "code",
   "execution_count": 99,
   "metadata": {},
   "outputs": [],
   "source": [
    "reps[['id'] + qc_columns].to_excel(f'{ddir}/gdata/data-sheet.qc.xlsx')"
   ]
  },
  {
   "cell_type": "markdown",
   "metadata": {},
   "source": [
    "## Zip all the qc reports"
   ]
  },
  {
   "cell_type": "code",
   "execution_count": 139,
   "metadata": {},
   "outputs": [
    {
     "name": "stdout",
     "output_type": "stream",
     "text": [
      "chipseq-oct4-1\n",
      "chipseq-oct4-2\n",
      "chipseq-sox2-1\n",
      "chipseq-sox2-2\n",
      "chipseq-sox2-3\n",
      "chipseq-nanog-1\n",
      "chipseq-nanog-2\n",
      "chipnexus-oct4-1\n",
      "chipnexus-oct4-2\n",
      "chipnexus-oct4-3\n",
      "chipnexus-oct4-4\n",
      "chipnexus-oct4-5\n",
      "chipnexus-oct4-6\n",
      "chipnexus-sox2-1\n",
      "chipnexus-sox2-2\n",
      "chipnexus-sox2-3\n",
      "chipnexus-sox2-4\n",
      "chipnexus-nanog-1\n",
      "chipnexus-nanog-2\n",
      "chipnexus-nanog-3\n",
      "chipnexus-nanog-4\n",
      "chipnexus-nanog-5\n",
      "chipnexus-klf4-1\n",
      "chipnexus-klf4-2\n",
      "chipnexus-klf4-3\n",
      "chipnexus-klf4-4\n",
      "chipnexus-klf4-5\n"
     ]
    }
   ],
   "source": [
    "for i,row in reps.iterrows():\n",
    "    print(row['id'])"
   ]
  },
  {
   "cell_type": "code",
   "execution_count": 140,
   "metadata": {},
   "outputs": [],
   "source": [
    "from zipfile import ZipFile\n",
    "\n",
    "# writing files to a zipfile \n",
    "with ZipFile(f'{ddir}/gdata/qc-htmls.zip','w') as zf: \n",
    "    for i,row in reps.iterrows():\n",
    "        zf.write(f\"{row.QC_dir}/qc.html\", arcname=\"qc.\" + row['id'] + \".html\") "
   ]
  },
  {
   "cell_type": "markdown",
   "metadata": {},
   "source": [
    "Link: https://drive.google.com/file/d/16tnnLxlIGiPdnPg7tM4thdT-0y0haOxa/view"
   ]
  }
 ],
 "metadata": {
  "kernelspec": {
   "display_name": "Python [conda env:chipnexus]",
   "language": "python",
   "name": "conda-env-chipnexus-py"
  },
  "language_info": {
   "codemirror_mode": {
    "name": "ipython",
    "version": 3
   },
   "file_extension": ".py",
   "mimetype": "text/x-python",
   "name": "python",
   "nbconvert_exporter": "python",
   "pygments_lexer": "ipython3",
   "version": "3.6.8"
  }
 },
 "nbformat": 4,
 "nbformat_minor": 2
}
