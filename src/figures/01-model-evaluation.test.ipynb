{
 "cells": [
  {
   "cell_type": "markdown",
   "metadata": {},
   "source": [
    "## Figures\n",
    "\n",
    "- Figure 1 D,E\n",
    "- Figure S1 A,B\n",
    "\n",
    "## Required files\n",
    "\n",
    "`model_dir = '/oak/stanford/groups/akundaje/avsec/basepair/data/processed/comparison/output/nexus,peaks,OSNK,0,10,1,FALSE,same,0.5,64,25,0.004,9,FALSE,[1,50],TRUE'`\n",
    "- {model_dir}/calibrated_seq_model.pkl\n",
    "- {model_dir}/history.csv\n",
    "- Files in `ChIP-nexus.dataspec.yml`\n",
    "\n",
    "\n",
    "## Output\n",
    "\n",
    "`figures = f'{ddir}/figures/model-evaluation/chipnexus-bpnet/{exp}'`\n",
    "- Figure 1D, Figure S1A\n",
    "  - `{figures}/profiles/top-sum-max-count-{idx}-{interval_str}.pdf`\n",
    "- Figure 1E\n",
    "  - `{figures}/profile-metrics/auprc.pdf`\n",
    "- Figure S1B\n",
    "  - `{figures}/scatter/all.pdf`"
   ]
  },
  {
   "cell_type": "code",
   "execution_count": 7,
   "metadata": {},
   "outputs": [],
   "source": [
    "%matplotlib inline\n",
    "%config InlineBackend.figure_format = 'retina'\n",
    "\n",
    "from basepair.imports import *\n",
    "from basepair.extractors import bw_extract\n",
    "from basepair.datasets import StrandedProfile\n",
    "from basepair.preproc import AppendCounts\n",
    "from basepair.config import valid_chr, test_chr\n",
    "from basepair.plot.evaluate import regression_eval\n",
    "from basepair.cli.evaluate import eval_profile\n",
    "from basepair.exp.paper.config import *\n",
    "import matplotlib.ticker as ticker\n",
    "import warnings\n",
    "warnings.filterwarnings(\"ignore\")\n",
    "\n",
    "paper_config() # Use matplotlib paper config"
   ]
  },
  {
   "cell_type": "code",
   "execution_count": 2,
   "metadata": {
    "tags": [
     "parameters"
    ]
   },
   "outputs": [],
   "source": [
    "exp = 'nexus,peaks,OSNK,0,10,1,FALSE,same,0.5,64,25,0.004,9,FALSE,[1,50],TRUE'\n",
    "gpu = 1"
   ]
  },
  {
   "cell_type": "code",
   "execution_count": 10,
   "metadata": {},
   "outputs": [
    {
     "data": {
      "text/plain": [
       "PosixPath('/oak/stanford/groups/akundaje/avsec/basepair/data/processed/comparison/output/nexus,peaks,OSNK,0,10,1,FALSE,same,0.5,64,25,0.004,9,FALSE,[1,50],TRUE')"
      ]
     },
     "execution_count": 10,
     "metadata": {},
     "output_type": "execute_result"
    }
   ],
   "source": [
    "model_dir"
   ]
  },
  {
   "cell_type": "code",
   "execution_count": 9,
   "metadata": {},
   "outputs": [],
   "source": [
    "from basepair.config import get_data_dir, get_repo_root\n",
    "rdir = get_repo_root()\n",
    "\n",
    "# Common paths\n",
    "model_dir = models_dir / exp\n",
    "figures = f\"{ddir}/figures/model-evaluation/chipnexus-bpnet/{exp}\"\n",
    "\n",
    "# Parameters\n",
    "dataspec_file = rdir / \"src/chipnexus/train/seqmodel/ChIP-nexus.dataspec.yml\"\n",
    "history_file = model_dir / \"history.csv\"\n",
    "seq_width = 1000\n",
    "num_workers = 10"
   ]
  },
  {
   "cell_type": "markdown",
   "metadata": {
    "papermill": {
     "duration": 2.4e-05,
     "end_time": "2018-08-18T09:44:45.698077",
     "exception": false,
     "start_time": "2018-08-18T09:44:45.698053",
     "status": "completed"
    },
    "tags": []
   },
   "source": [
    "## Get predictions"
   ]
  },
  {
   "cell_type": "code",
   "execution_count": 17,
   "metadata": {},
   "outputs": [],
   "source": [
    "ds = DataSpec.load(dataspec_file)\n",
    "tasks = list(ds.task_specs)"
   ]
  },
  {
   "cell_type": "code",
   "execution_count": 18,
   "metadata": {},
   "outputs": [
    {
     "data": {
      "text/plain": [
       "<tensorflow.python.client.session.Session at 0x7f2862e8ba90>"
      ]
     },
     "execution_count": 18,
     "metadata": {},
     "output_type": "execute_result"
    }
   ],
   "source": [
    "create_tf_session(gpu)"
   ]
  },
  {
   "cell_type": "code",
   "execution_count": 19,
   "metadata": {},
   "outputs": [
    {
     "name": "stdout",
     "output_type": "stream",
     "text": [
      "\u001b[0m\u001b[01;34mactivity\u001b[0m/                                     \u001b[01;34mlog\u001b[0m/\n",
      "\u001b[01;34mbenchmark\u001b[0m/                                    model.h5\n",
      "calibrated.pkl                                note_params.json\n",
      "calibrated_seqmodel.pkl                       null.deeplift.imp_score.h5\n",
      "config.gin                                    \u001b[01;34mperturbation-analysis\u001b[0m/\n",
      "config.gin.json                               \u001b[01;34mperturbation-analysis-bak\u001b[0m/\n",
      "\u001b[01;34mdeeplift\u001b[0m/                                     preds.test.pkl\n",
      "deeplift.imp_score.h5                         seq_model.pkl\n",
      "evaluation.valid.json                         test.pkl\n",
      "events.out.tfevents.1552394698.sh-112-11.int  train.smk-benchmark.tsv\n",
      "history.csv                                   wandb.json\n",
      "imp_score_deeplift.smk-benchmark.tsv\n"
     ]
    }
   ],
   "source": [
    "ls {model_dir}"
   ]
  },
  {
   "cell_type": "code",
   "execution_count": 20,
   "metadata": {},
   "outputs": [
    {
     "name": "stdout",
     "output_type": "stream",
     "text": [
      "WARNING:tensorflow:From /users/avsec/bin/anaconda3/envs/chipnexus/lib/python3.6/site-packages/tensorflow/python/util/deprecation.py:497: calling conv1d (from tensorflow.python.ops.nn_ops) with data_format=NHWC is deprecated and will be removed in a future version.\n",
      "Instructions for updating:\n",
      "`NHWC` for data_format is deprecated, use `NWC` instead\n"
     ]
    },
    {
     "name": "stderr",
     "output_type": "stream",
     "text": [
      "2019-07-19 15:38:05,744 [WARNING] From /users/avsec/bin/anaconda3/envs/chipnexus/lib/python3.6/site-packages/tensorflow/python/util/deprecation.py:497: calling conv1d (from tensorflow.python.ops.nn_ops) with data_format=NHWC is deprecated and will be removed in a future version.\n",
      "Instructions for updating:\n",
      "`NHWC` for data_format is deprecated, use `NWC` instead\n"
     ]
    },
    {
     "name": "stdout",
     "output_type": "stream",
     "text": [
      "WARNING:tensorflow:From /users/avsec/bin/anaconda3/envs/chipnexus/lib/python3.6/site-packages/tensorflow/contrib/learn/python/learn/datasets/base.py:198: retry (from tensorflow.contrib.learn.python.learn.datasets.base) is deprecated and will be removed in a future version.\n",
      "Instructions for updating:\n",
      "Use the retry module or similar alternatives.\n"
     ]
    },
    {
     "name": "stderr",
     "output_type": "stream",
     "text": [
      "2019-07-19 15:38:21,045 [WARNING] From /users/avsec/bin/anaconda3/envs/chipnexus/lib/python3.6/site-packages/tensorflow/contrib/learn/python/learn/datasets/base.py:198: retry (from tensorflow.contrib.learn.python.learn.datasets.base) is deprecated and will be removed in a future version.\n",
      "Instructions for updating:\n",
      "Use the retry module or similar alternatives.\n"
     ]
    }
   ],
   "source": [
    "from basepair.seqmodel import SeqModel\n",
    "bpnet = SeqModel.load(model_dir / 'calibrated_seqmodel.pkl')"
   ]
  },
  {
   "cell_type": "code",
   "execution_count": 21,
   "metadata": {},
   "outputs": [],
   "source": [
    "profile_bias_pool_size=[1,50]  # Note: this is specific to the model"
   ]
  },
  {
   "cell_type": "code",
   "execution_count": 22,
   "metadata": {},
   "outputs": [],
   "source": [
    "!rm {model_dir}/preds.test.pkl"
   ]
  },
  {
   "cell_type": "code",
   "execution_count": 23,
   "metadata": {},
   "outputs": [
    {
     "name": "stderr",
     "output_type": "stream",
     "text": [
      "100%|██████████| 867/867 [00:30<00:00, 40.18it/s]\n"
     ]
    }
   ],
   "source": [
    "# Get the predictions\n",
    "if not os.path.exists(model_dir / \"preds.test.pkl\"):\n",
    "    dl_test = StrandedProfile(ds, \n",
    "                              incl_chromosomes=test_chr, \n",
    "                              peak_width=seq_width,\n",
    "                              shuffle=False,\n",
    "                              target_transformer=AppendCounts(),\n",
    "                              profile_bias_pool_size=profile_bias_pool_size)\n",
    "\n",
    "    test = dl_test.load_all(num_workers=num_workers)\n",
    "    y_true = test[\"targets\"]\n",
    "    y_pred = bpnet.predict(test['inputs'])\n",
    "    write_pkl((test, y_pred), model_dir / \"preds.test.pkl\")\n",
    "\n",
    "# Load predictions\n",
    "test, y_pred = read_pkl(model_dir / \"preds.test.pkl\")\n",
    "y_true = test['targets']"
   ]
  },
  {
   "cell_type": "code",
   "execution_count": 24,
   "metadata": {},
   "outputs": [
    {
     "name": "stderr",
     "output_type": "stream",
     "text": [
      "100%|██████████| 2935/2935 [01:17<00:00, 37.97it/s]\n"
     ]
    }
   ],
   "source": [
    "# Load the training data and compute the average profile\n",
    "dl_train = StrandedProfile(ds, \n",
    "                           excl_chromosomes=test_chr + valid_chr, \n",
    "                           peak_width=seq_width,\n",
    "                           shuffle=False)\n",
    "train_data = dl_train.load_all(num_workers=num_workers)\n",
    "avg_profile = {k.split(\"/\")[1]: v.mean(axis=0) for k,v in train_data['targets'].items()}"
   ]
  },
  {
   "cell_type": "markdown",
   "metadata": {
    "papermill": {
     "duration": 1.5e-05,
     "end_time": "2018-08-18T09:45:23.099119",
     "exception": false,
     "start_time": "2018-08-18T09:45:23.099104",
     "status": "completed"
    },
    "tags": []
   },
   "source": [
    "## Profile plots (predicted vs observed)\n",
    "\n",
    "- for each set of TF peaks (all non-overlapping) in the test set (chr1, chr8, chr9), choose two with most counts"
   ]
  },
  {
   "cell_type": "code",
   "execution_count": 36,
   "metadata": {},
   "outputs": [],
   "source": [
    "from basepair.plots import plot_profiles\n",
    "from basepair import samplers\n",
    "from kipoi.data_utils import get_dataset_item\n",
    "from kipoi.metadata import GenomicRanges\n",
    "import pybedtools\n",
    "from basepair.utils import flatten_list\n",
    "from basepair.plot.tracks import plot_tracks, filter_tracks\n",
    "from basepair.preproc import dfint_no_intersection\n",
    "from pybedtools import BedTool"
   ]
  },
  {
   "cell_type": "code",
   "execution_count": 37,
   "metadata": {},
   "outputs": [
    {
     "name": "stdout",
     "output_type": "stream",
     "text": [
      "Fraction of non-overlapping peaks: 0.5853139539077433\n"
     ]
    }
   ],
   "source": [
    "# Figure out valid indices (non-overlapping)\n",
    "df_ranges = pd.DataFrame(test['metadata']['range'])[['chr', 'start','end']]\n",
    "df_ranges_tasks = {t: df_ranges[test['metadata']['interval_from_task'] == t] for t in bpnet.tasks}\n",
    "all_intervals = list(BedTool.from_dataframe(df_ranges))\n",
    "\n",
    "o = dict()\n",
    "for i,t in enumerate(bpnet.tasks):\n",
    "    dft = df_ranges.iloc[test['metadata']['interval_from_task'] == t]\n",
    "    if i == 0:\n",
    "        o[t] = dft\n",
    "    else:\n",
    "        df_existing = pd.concat(list(o.values()), axis=0)\n",
    "        o[t] = dft[dfint_no_intersection(dft, df_existing)]\n",
    "valid_idx = pd.concat(list(o.values()), axis=0).index\n",
    "\n",
    "valid_idx_bool = pd.Series(np.arange(len(df_ranges))).isin(valid_idx)\n",
    "\n",
    "print(\"Fraction of non-overlapping peaks:\", valid_idx_bool.mean())"
   ]
  },
  {
   "cell_type": "code",
   "execution_count": 38,
   "metadata": {},
   "outputs": [],
   "source": [
    "from genomelake.extractors import FastaExtractor\n",
    "from basepair.preproc import resize_interval"
   ]
  },
  {
   "cell_type": "code",
   "execution_count": 39,
   "metadata": {},
   "outputs": [],
   "source": [
    "input_seqlen = 1000 - bpnet.body.get_len_change()  - bpnet.heads[0].net.get_len_change()"
   ]
  },
  {
   "cell_type": "code",
   "execution_count": 41,
   "metadata": {},
   "outputs": [],
   "source": [
    "# Check how much of the total counts is allocated at a single position\n",
    "yt = sum([y_true[f'profile/{task}']\n",
    "          for task in tasks])\n",
    "\n",
    "(yt / yt.sum(axis=1, keepdims=True)).max(axis=(-1, -2)).max()\n",
    "\n",
    "max_frac = (yt / yt.sum(axis=1, keepdims=True)).max(axis=(-1, -2))\n",
    "\n",
    "max_pos = (yt ).max(axis=(-1, -2))\n",
    "total_counts = (yt ).sum(axis=(-1, -2))\n",
    "n_zeros = np.sum(yt == 0, axis=(-1, -2))"
   ]
  },
  {
   "cell_type": "code",
   "execution_count": null,
   "metadata": {},
   "outputs": [],
   "source": [
    "from basepair.exp.paper.config import tf_colors\n",
    "\n",
    "# Generate the right colors\n",
    "colors = []\n",
    "for task in bpnet.tasks:\n",
    "    colors.append((tf_colors[task], tf_colors[task] + \"80\"))  # 80 add alpha=0.5\n",
    "    colors.append((tf_colors[task], tf_colors[task] + \"80\"))  # 80 add alpha=0.5\n",
    "    \n",
    "def to_neg(track):\n",
    "    \"\"\"Use the negative sign for reads on the reverse strand\n",
    "    \"\"\"\n",
    "    track = track.copy()\n",
    "    track[:, 1] = - track[:, 1]\n",
    "    return track    "
   ]
  },
  {
   "cell_type": "code",
   "execution_count": 3,
   "metadata": {},
   "outputs": [],
   "source": [
    "from basepair.samplers import top_sum_count, top_max_count"
   ]
  },
  {
   "cell_type": "code",
   "execution_count": 45,
   "metadata": {},
   "outputs": [],
   "source": [
    "def top_max_count(arr, end=10, start=0, keep=None):\n",
    "    \"\"\"\n",
    "    Return indices where arr has the highest max(pos) + max(neg)\n",
    "\n",
    "    Args:\n",
    "      arr: can be an array or a list of arrays\n",
    "      start: Where to start returning the values\n",
    "      end: where to stop\n",
    "    \"\"\"\n",
    "    if keep is None:\n",
    "        keep = np.arange(len(arr))\n",
    "    assert end > start\n",
    "    # Top maxcount indicies\n",
    "    return pd.Series(arr.max(1).sum(1))[keep].sort_values(ascending=False).index[start:end]"
   ]
  },
  {
   "cell_type": "code",
   "execution_count": 46,
   "metadata": {},
   "outputs": [],
   "source": [
    "# Get the idx to test\n",
    "idx_set = set()\n",
    "for task in bpnet.tasks:\n",
    "    keep = ((test['metadata']['interval_from_task'] == task) & valid_idx_bool &\n",
    "            valid_idx_bool & ~((max_pos > 400) & (n_zeros > 1000))\n",
    "            )\n",
    "    idx_set.update(top_max_count(y_true[f'profile/{task}'],10,keep=keep))\n",
    "    idx_set.update(top_sum_count(y_true[f'profile/{task}'],10,keep=keep))"
   ]
  },
  {
   "cell_type": "code",
   "execution_count": null,
   "metadata": {},
   "outputs": [],
   "source": [
    "trim_edge = 300\n",
    "xlim = [trim_edge, 1000 - trim_edge]\n",
    "fig_width=get_figsize(0.5)[0]\n",
    "rotate_y=90\n",
    "fig_height_per_track=0.5\n",
    "tasks = bpnet.tasks\n",
    "\n",
    "for idx in idx_set:\n",
    "    # get the interval for that idx\n",
    "    r = get_dataset_item(test['metadata']['range'], idx)\n",
    "    interval = pybedtools.create_interval_from_list([r['chr'], int(r['start']), int(r['end'])])\n",
    "    interval_str = f\"{interval.chrom}:{interval.start + trim_edge}-{interval.end - trim_edge}\"\n",
    "\n",
    "    # make prediction\n",
    "\n",
    "    fe = FastaExtractor(ds.fasta_file)\n",
    "    seq = fe([resize_interval(interval, input_seqlen, ignore_strand=True)])\n",
    "    x = bpnet.neutral_bias_inputs(1000, 1000)\n",
    "    x['seq'] = seq\n",
    "    pred = bpnet.predict(x)\n",
    "\n",
    "\n",
    "    # compile the list of tracks to plot\n",
    "    viz_dict =flatten_list([[\n",
    "        # Observed\n",
    "        (f\"{task}\\nObs\", to_neg(y_true[f'profile/{task}'][idx])),\n",
    "        # Predicted\n",
    "        (f\"\\nPred\", to_neg(pred[f'{task}/profile'][0] * np.exp(pred[f'{task}/counts'][0]))),\n",
    "    ] for task_idx, task in enumerate(tasks)])\n",
    "\n",
    "    sl = slice(*xlim)\n",
    "    # Get ylim\n",
    "    ylim = []\n",
    "    for task in tasks:\n",
    "        m = y_true[f'profile/{task}'][idx][sl].max()\n",
    "        ylim.append((-m,m))\n",
    "        m = (pred[f'{task}/profile'][0] * np.exp(pred[f'{task}/counts'][0])).max()\n",
    "        ylim.append((-m,m))\n",
    "\n",
    "    fig = plot_tracks(filter_tracks(viz_dict, xlim),\n",
    "                      title=interval_str,\n",
    "                      fig_height_per_track=fig_height_per_track,\n",
    "                      rotate_y=rotate_y,\n",
    "                      use_spine_subset=True,\n",
    "                      color=colors,\n",
    "                      fig_width=fig_width,\n",
    "                      ylim=ylim,\n",
    "                      legend=False)\n",
    "    fig.align_ylabels()\n",
    "    sns.despine(top=True, right=True, bottom=True)\n",
    "    os.makedirs(f\"{figures}/profiles\", exist_ok=True)\n",
    "    fig.savefig(f\"{figures}/profiles/top-sum-max-count-{idx}-{interval_str}.pdf\")\n",
    "    # fig.savefig(f\"{figures}/profiles/top-sum-max-count-{idx}-{interval_str}.png\")"
   ]
  },
  {
   "cell_type": "markdown",
   "metadata": {},
   "source": [
    "### Replicate performance"
   ]
  },
  {
   "cell_type": "code",
   "execution_count": 26,
   "metadata": {},
   "outputs": [],
   "source": [
    "rep_indices = [f'N{x:02d}' for x in np.arange(1, 21)]"
   ]
  },
  {
   "cell_type": "code",
   "execution_count": 27,
   "metadata": {},
   "outputs": [],
   "source": [
    "reps = pd.read_csv(\"https://docs.google.com/spreadsheets/d/1PvHGy0P9_Yq0tZFw807bjadxaZHAYECE4RytlI9rdeQ/export?gid=0&format=csv\")\n",
    "reps = reps[reps.Mnemonic.isin(rep_indices)]"
   ]
  },
  {
   "cell_type": "code",
   "execution_count": 28,
   "metadata": {},
   "outputs": [
    {
     "data": {
      "text/html": [
       "<div>\n",
       "<style scoped>\n",
       "    .dataframe tbody tr th:only-of-type {\n",
       "        vertical-align: middle;\n",
       "    }\n",
       "\n",
       "    .dataframe tbody tr th {\n",
       "        vertical-align: top;\n",
       "    }\n",
       "\n",
       "    .dataframe thead th {\n",
       "        text-align: right;\n",
       "    }\n",
       "</style>\n",
       "<table border=\"1\" class=\"dataframe\">\n",
       "  <thead>\n",
       "    <tr style=\"text-align: right;\">\n",
       "      <th></th>\n",
       "      <th>Mnemonic</th>\n",
       "      <th>FTP Name</th>\n",
       "      <th>thenexus Name</th>\n",
       "      <th>Sample ID</th>\n",
       "      <th>Comments</th>\n",
       "      <th>Data Type</th>\n",
       "      <th>TF Name</th>\n",
       "      <th>Rep Number</th>\n",
       "      <th>Control Reps</th>\n",
       "      <th>QC report</th>\n",
       "      <th>Unique deduped reads</th>\n",
       "      <th>Held-out test</th>\n",
       "      <th>#Rep-IDRpeaks (N1, N2, ..)</th>\n",
       "      <th>#IDR-optimal peaks (Np)</th>\n",
       "      <th>Md5-hash-FASTQ</th>\n",
       "      <th>Md5-hash-IDRoptimal</th>\n",
       "      <th>Md5-bigwigs</th>\n",
       "      <th>Oak path peak</th>\n",
       "      <th>Oak path bw pos</th>\n",
       "      <th>Oak path bw neg</th>\n",
       "    </tr>\n",
       "  </thead>\n",
       "  <tbody>\n",
       "    <tr>\n",
       "      <th>16</th>\n",
       "      <td>N01</td>\n",
       "      <td>mesc_oct4_nexus_1.fas...</td>\n",
       "      <td>NaN</td>\n",
       "      <td>NaN</td>\n",
       "      <td>NaN</td>\n",
       "      <td>chipnexus</td>\n",
       "      <td>oct4</td>\n",
       "      <td>1.0</td>\n",
       "      <td>NaN</td>\n",
       "      <td>http://mitra.stanford...</td>\n",
       "      <td>31M</td>\n",
       "      <td>False</td>\n",
       "      <td>8772.0</td>\n",
       "      <td>25849.0</td>\n",
       "      <td>459a81cf3075ea87d40b7...</td>\n",
       "      <td>NaN</td>\n",
       "      <td>NaN</td>\n",
       "      <td>NaN</td>\n",
       "      <td>NaN</td>\n",
       "      <td>NaN</td>\n",
       "    </tr>\n",
       "    <tr>\n",
       "      <th>17</th>\n",
       "      <td>N02</td>\n",
       "      <td>mesc_oct4_nexus_2.fas...</td>\n",
       "      <td>NaN</td>\n",
       "      <td>NaN</td>\n",
       "      <td>NaN</td>\n",
       "      <td>chipnexus</td>\n",
       "      <td>oct4</td>\n",
       "      <td>2.0</td>\n",
       "      <td>NaN</td>\n",
       "      <td>http://mitra.stanford...</td>\n",
       "      <td>50M</td>\n",
       "      <td>True</td>\n",
       "      <td>10548.0</td>\n",
       "      <td>25849.0</td>\n",
       "      <td>536a72cc5c79707e22073...</td>\n",
       "      <td>NaN</td>\n",
       "      <td>NaN</td>\n",
       "      <td>NaN</td>\n",
       "      <td>NaN</td>\n",
       "      <td>NaN</td>\n",
       "    </tr>\n",
       "    <tr>\n",
       "      <th>18</th>\n",
       "      <td>N03</td>\n",
       "      <td>mesc_oct4_nexus_3.fas...</td>\n",
       "      <td>NaN</td>\n",
       "      <td>NaN</td>\n",
       "      <td>NaN</td>\n",
       "      <td>chipnexus</td>\n",
       "      <td>oct4</td>\n",
       "      <td>3.0</td>\n",
       "      <td>NaN</td>\n",
       "      <td>http://mitra.stanford...</td>\n",
       "      <td>48M</td>\n",
       "      <td>True</td>\n",
       "      <td>5996.0</td>\n",
       "      <td>25849.0</td>\n",
       "      <td>9a3abcdf2be00d2e6a73e...</td>\n",
       "      <td>NaN</td>\n",
       "      <td>NaN</td>\n",
       "      <td>NaN</td>\n",
       "      <td>NaN</td>\n",
       "      <td>NaN</td>\n",
       "    </tr>\n",
       "    <tr>\n",
       "      <th>19</th>\n",
       "      <td>N04</td>\n",
       "      <td>mesc_oct4_nexus_4.fas...</td>\n",
       "      <td>NaN</td>\n",
       "      <td>NaN</td>\n",
       "      <td>NaN</td>\n",
       "      <td>chipnexus</td>\n",
       "      <td>oct4</td>\n",
       "      <td>4.0</td>\n",
       "      <td>NaN</td>\n",
       "      <td>http://mitra.stanford...</td>\n",
       "      <td>51M</td>\n",
       "      <td>False</td>\n",
       "      <td>7572.0</td>\n",
       "      <td>25849.0</td>\n",
       "      <td>ad16824c3e3eafe0475f4...</td>\n",
       "      <td>NaN</td>\n",
       "      <td>NaN</td>\n",
       "      <td>NaN</td>\n",
       "      <td>NaN</td>\n",
       "      <td>NaN</td>\n",
       "    </tr>\n",
       "    <tr>\n",
       "      <th>20</th>\n",
       "      <td>N05</td>\n",
       "      <td>mesc_oct4_nexus_5.fas...</td>\n",
       "      <td>NaN</td>\n",
       "      <td>NaN</td>\n",
       "      <td>NaN</td>\n",
       "      <td>chipnexus</td>\n",
       "      <td>oct4</td>\n",
       "      <td>5.0</td>\n",
       "      <td>NaN</td>\n",
       "      <td>http://mitra.stanford...</td>\n",
       "      <td>30M</td>\n",
       "      <td>True</td>\n",
       "      <td>8226.0</td>\n",
       "      <td>25849.0</td>\n",
       "      <td>f8cafa07687a9767146f0...</td>\n",
       "      <td>NaN</td>\n",
       "      <td>NaN</td>\n",
       "      <td>NaN</td>\n",
       "      <td>NaN</td>\n",
       "      <td>NaN</td>\n",
       "    </tr>\n",
       "  </tbody>\n",
       "</table>\n",
       "</div>"
      ],
      "text/plain": [
       "   Mnemonic                  FTP Name thenexus Name  Sample ID Comments  Data Type TF Name  \\\n",
       "16      N01  mesc_oct4_nexus_1.fas...           NaN        NaN      NaN  chipnexus    oct4   \n",
       "17      N02  mesc_oct4_nexus_2.fas...           NaN        NaN      NaN  chipnexus    oct4   \n",
       "18      N03  mesc_oct4_nexus_3.fas...           NaN        NaN      NaN  chipnexus    oct4   \n",
       "19      N04  mesc_oct4_nexus_4.fas...           NaN        NaN      NaN  chipnexus    oct4   \n",
       "20      N05  mesc_oct4_nexus_5.fas...           NaN        NaN      NaN  chipnexus    oct4   \n",
       "\n",
       "    Rep Number Control Reps                 QC report Unique deduped reads Held-out test  \\\n",
       "16         1.0          NaN  http://mitra.stanford...                  31M         False   \n",
       "17         2.0          NaN  http://mitra.stanford...                  50M          True   \n",
       "18         3.0          NaN  http://mitra.stanford...                  48M          True   \n",
       "19         4.0          NaN  http://mitra.stanford...                  51M         False   \n",
       "20         5.0          NaN  http://mitra.stanford...                  30M          True   \n",
       "\n",
       "    #Rep-IDRpeaks (N1, N2, ..)  #IDR-optimal peaks (Np)            Md5-hash-FASTQ  \\\n",
       "16                    8772.0                    25849.0  459a81cf3075ea87d40b7...   \n",
       "17                   10548.0                    25849.0  536a72cc5c79707e22073...   \n",
       "18                    5996.0                    25849.0  9a3abcdf2be00d2e6a73e...   \n",
       "19                    7572.0                    25849.0  ad16824c3e3eafe0475f4...   \n",
       "20                    8226.0                    25849.0  f8cafa07687a9767146f0...   \n",
       "\n",
       "    Md5-hash-IDRoptimal  Md5-bigwigs  Oak path peak  Oak path bw pos  Oak path bw neg  \n",
       "16                  NaN          NaN            NaN              NaN              NaN  \n",
       "17                  NaN          NaN            NaN              NaN              NaN  \n",
       "18                  NaN          NaN            NaN              NaN              NaN  \n",
       "19                  NaN          NaN            NaN              NaN              NaN  \n",
       "20                  NaN          NaN            NaN              NaN              NaN  "
      ]
     },
     "execution_count": 28,
     "metadata": {},
     "output_type": "execute_result"
    }
   ],
   "source": [
    "reps.head()"
   ]
  },
  {
   "cell_type": "code",
   "execution_count": 29,
   "metadata": {},
   "outputs": [],
   "source": [
    "from basepair.cli.schemas import DataSpec, TaskSpec"
   ]
  },
  {
   "cell_type": "code",
   "execution_count": 30,
   "metadata": {},
   "outputs": [],
   "source": [
    "def get_bigwig(row, strand):\n",
    "    rep_n = int(row['Rep Number'])\n",
    "    task = row['TF Name']\n",
    "    rep_name = row['FTP Name'].split(\".\")[0]\n",
    "    return f\"/srv/scratch/amr1/chip-nexus-pipeline/cromwell-executions/chip_nexus/{task}/call-count_signal_track/shard-{rep_n -1}/execution/{rep_name}.trim.merged.nodup.{strand}.bigwig\"\n",
    "\n",
    "def get_taskspec(rows):\n",
    "    task = rows.iloc[0]['TF Name'].capitalize()\n",
    "    pos_counts=[get_bigwig(rows.iloc[i], 'positive') for i in range(len(rows))]\n",
    "    neg_counts=[get_bigwig(rows.iloc[i], 'negative') for i in range(len(rows))]\n",
    "    return TaskSpec(task=task, pos_counts=pos_counts, neg_counts=neg_counts)"
   ]
  },
  {
   "cell_type": "code",
   "execution_count": 31,
   "metadata": {},
   "outputs": [],
   "source": [
    "dataspec_train = DataSpec(task_specs={task: get_taskspec(reps[(reps['TF Name'].str.capitalize() == task) & (reps['Held-out test'] == False)])\n",
    "                                                 for task in tasks},\n",
    "                  fasta_file=\"\")"
   ]
  },
  {
   "cell_type": "code",
   "execution_count": 32,
   "metadata": {},
   "outputs": [],
   "source": [
    "dataspec_train.touch_all_files()"
   ]
  },
  {
   "cell_type": "code",
   "execution_count": 33,
   "metadata": {},
   "outputs": [],
   "source": [
    "dataspec_test = DataSpec(task_specs={task: get_taskspec(reps[(reps['TF Name'].str.capitalize() == task) & (reps['Held-out test'] == True)])\n",
    "                                                 for task in tasks},\n",
    "                  fasta_file=\"\")"
   ]
  },
  {
   "cell_type": "code",
   "execution_count": 34,
   "metadata": {},
   "outputs": [],
   "source": [
    "dataspec_test.touch_all_files()"
   ]
  },
  {
   "cell_type": "markdown",
   "metadata": {},
   "source": [
    "## Compute the same stats for the technical replicates\n",
    "\n",
    "- always have two technical replicates for each factor"
   ]
  },
  {
   "cell_type": "code",
   "execution_count": null,
   "metadata": {},
   "outputs": [],
   "source": [
    "train = dataspec_train.load_counts(all_intervals, progbar=True)\n",
    "test = dataspec_test.load_counts(all_intervals, progbar=True)"
   ]
  },
  {
   "cell_type": "markdown",
   "metadata": {},
   "source": [
    "### Evaluate"
   ]
  },
  {
   "cell_type": "code",
   "execution_count": 48,
   "metadata": {},
   "outputs": [],
   "source": [
    "# Setup the evaluation metric\n",
    "from basepair.exp.paper.config import peak_pred_metric\n",
    "from basepair.metrics import *\n",
    "\n",
    "# Override the binsizes for peak_pred_metric\n",
    "binsizes = [1, 2, 5, 10, 20]\n",
    "peak_pred_metric.binsizes = binsizes\n",
    "\n",
    "metric = BPNetMetricSingleProfile(\n",
    "    count_metric=pearson_spearman,\n",
    "    profile_metric=peak_pred_metric\n",
    ")"
   ]
  },
  {
   "cell_type": "code",
   "execution_count": 49,
   "metadata": {},
   "outputs": [],
   "source": [
    "def profile_metrics2df(m):\n",
    "    out = []\n",
    "    for task,v in m.items():\n",
    "        for binsize_str, mout in v['profile'].items():\n",
    "            out.append({\"task\": task,\n",
    "                        \"binsize\": int(binsize_str.split(\"=\")[1]),\n",
    "                        **mout\n",
    "                       })\n",
    "    return pd.DataFrame(out)\n",
    "\n",
    "def count_metrics2df(m):\n",
    "    out = []\n",
    "    for task,v in m.items():\n",
    "        out.append({\"task\": task,\n",
    "                     **v['counts']\n",
    "                       })\n",
    "    return pd.DataFrame(out)"
   ]
  },
  {
   "cell_type": "code",
   "execution_count": null,
   "metadata": {},
   "outputs": [],
   "source": [
    "metrics_rep = {task: metric(test[task], train[task]) for task in tasks}\n",
    "metrics_model = {task: metric(test[task], y_pred[f\"{task}/profile\"] * np.exp(y_pred[f\"{task}/counts\"][:, np.newaxis])) for task in tasks}\n",
    "# average the training signal\n",
    "metrics_avg = {task: metric(test[task], \n",
    "                            np.repeat(avg_profile[task][np.newaxis], len(test[task]), axis=0)) \n",
    "               for task in tasks}"
   ]
  },
  {
   "cell_type": "code",
   "execution_count": 41,
   "metadata": {},
   "outputs": [],
   "source": [
    "dfm_profile = profile_metrics2df(metrics_rep).assign(method='Replicates')\n",
    "dfm_counts = count_metrics2df(metrics_rep).assign(method='Replicates')\n",
    "df_auprc_random = dfm_profile.copy()\n",
    "df_auprc_random['auprc'] = df_auprc_random['random_auprc']\n",
    "df_auprc_random['method'] = 'Random'# + df_auprc_random['method']\n",
    "dfm_profile = pd.concat([dfm_profile, df_auprc_random])\n",
    "dfm_profile = pd.concat([dfm_profile, profile_metrics2df(metrics_model).assign(method='BPNet')])\n",
    "dfm_profile = pd.concat([dfm_profile, profile_metrics2df(metrics_avg).assign(method='Average')])\n",
    "\n",
    "dfm_counts = pd.concat([dfm_counts, count_metrics2df(metrics_model).assign(method='BPNet')])"
   ]
  },
  {
   "cell_type": "code",
   "execution_count": 42,
   "metadata": {},
   "outputs": [],
   "source": [
    "dfm_profile['split'] = 'train->test'\n",
    "dfm_profile1 = dfm_profile.copy()\n",
    "dfm_counts['split'] = 'train->test'\n",
    "dfm_counts1 = dfm_counts.copy()"
   ]
  },
  {
   "cell_type": "markdown",
   "metadata": {},
   "source": [
    "Swap train and test."
   ]
  },
  {
   "cell_type": "code",
   "execution_count": 43,
   "metadata": {},
   "outputs": [],
   "source": [
    "metrics_rep = {task: metric(train[task], test[task]) for task in tasks}\n",
    "metrics_model = {task: metric(train[task], y_pred[f\"{task}/profile\"] * np.exp(y_pred[f\"{task}/counts\"][:, np.newaxis])) for task in tasks}\n",
    "# average the training signal\n",
    "metrics_avg = {task: metric(train[task], \n",
    "                            np.repeat(avg_profile[task][np.newaxis], len(test[task]), axis=0)) \n",
    "               for task in tasks}"
   ]
  },
  {
   "cell_type": "code",
   "execution_count": 44,
   "metadata": {},
   "outputs": [],
   "source": [
    "dfm_profile = profile_metrics2df(metrics_rep).assign(method='Replicates')\n",
    "dfm_counts = count_metrics2df(metrics_rep).assign(method='Replicates')\n",
    "df_auprc_random = dfm_profile.copy()\n",
    "df_auprc_random['auprc'] = df_auprc_random['random_auprc']\n",
    "df_auprc_random['method'] = 'Random'# + df_auprc_random['method']\n",
    "dfm_profile = pd.concat([dfm_profile, df_auprc_random])\n",
    "dfm_profile = pd.concat([dfm_profile, profile_metrics2df(metrics_model).assign(method='BPNet')])\n",
    "dfm_profile = pd.concat([dfm_profile, profile_metrics2df(metrics_avg).assign(method='Average')])\n",
    "\n",
    "dfm_counts = pd.concat([dfm_counts, count_metrics2df(metrics_model).assign(method='BPNet')])"
   ]
  },
  {
   "cell_type": "code",
   "execution_count": 45,
   "metadata": {},
   "outputs": [],
   "source": [
    "dfm_profile['split'] = 'train->test'\n",
    "dfm_profile2 = dfm_profile.copy()\n",
    "dfm_counts['split'] = 'train->test'\n",
    "dfm_counts2 = dfm_counts.copy()"
   ]
  },
  {
   "cell_type": "code",
   "execution_count": 47,
   "metadata": {},
   "outputs": [
    {
     "data": {
      "text/plain": [
       "['BPNet', 'Replicates', 'Average', 'Random']"
      ]
     },
     "execution_count": 47,
     "metadata": {},
     "output_type": "execute_result"
    }
   ],
   "source": [
    "[\"BPNet\", \"Replicates\", \"Average\", \"Random\"]"
   ]
  },
  {
   "cell_type": "code",
   "execution_count": 48,
   "metadata": {},
   "outputs": [],
   "source": [
    "df_auprc_tidy = pd.concat([dfm_profile1, dfm_profile2])\n",
    "df_auprc_tidy['method'] = pd.Categorical(df_auprc_tidy['method'], categories=[\"BPNet\", \"Replicates\", \"Average\", \"Random\"])\n",
    "df_auprc_tidy['task'] = pd.Categorical(df_auprc_tidy['task'], categories=df_auprc_tidy['task'].unique())"
   ]
  },
  {
   "cell_type": "code",
   "execution_count": 49,
   "metadata": {},
   "outputs": [],
   "source": [
    "df_counts_tidy = pd.concat([dfm_counts1, dfm_counts2])\n",
    "df_counts_tidy['method'] = pd.Categorical(df_counts_tidy['method'], categories=[\"BPNet\", \"Replicates\"])\n",
    "df_counts_tidy['task'] = pd.Categorical(df_counts_tidy['task'], categories=df_counts_tidy['task'].unique())"
   ]
  },
  {
   "cell_type": "markdown",
   "metadata": {},
   "source": [
    "### Plot"
   ]
  },
  {
   "cell_type": "code",
   "execution_count": 50,
   "metadata": {},
   "outputs": [
    {
     "data": {
      "text/plain": [
       "'0.5.1'"
      ]
     },
     "execution_count": 50,
     "metadata": {},
     "output_type": "execute_result"
    }
   ],
   "source": [
    "from plotnine import *\n",
    "import plotnine\n",
    "\n",
    "plotnine.__version__"
   ]
  },
  {
   "cell_type": "code",
   "execution_count": 51,
   "metadata": {},
   "outputs": [],
   "source": [
    "paper_config()"
   ]
  },
  {
   "cell_type": "code",
   "execution_count": 52,
   "metadata": {},
   "outputs": [],
   "source": [
    "df_auprc_tidy = df_auprc_tidy[df_auprc_tidy.binsize < 11]"
   ]
  },
  {
   "cell_type": "code",
   "execution_count": 58,
   "metadata": {},
   "outputs": [
    {
     "data": {
      "image/png": "[encoded data removed]",
      "text/plain": [
       "<Figure size 342.519x102.756 with 4 Axes>"
      ]
     },
     "metadata": {
      "image/png": {
       "height": 223,
       "width": 344
      }
     },
     "output_type": "display_data"
    },
    {
     "data": {
      "text/plain": [
       "<ggplot: (-9223363251271900970)>"
      ]
     },
     "execution_count": 58,
     "metadata": {},
     "output_type": "execute_result"
    }
   ],
   "source": [
    "plotnine.options.figure_size = get_figsize(0.5, aspect=0.3)\n",
    "fig = ggplot(aes(x='binsize', y='auprc', color='method'), data=df_auprc_tidy.groupby(['binsize', 'task', 'method']).auprc.mean().reset_index()) + \\\n",
    "  scale_x_log10(breaks=binsizes) + \\\n",
    "  geom_point() + \\\n",
    "  geom_line() + \\\n",
    "  facet_grid(\".~task\") + \\\n",
    "  theme_classic(base_size=10, base_family='Arial') +  \\\n",
    "  theme(legend_position='top') + \\\n",
    "  scale_color_brewer('qual', 7)\n",
    "!mkdir -p {figures}/profile-metrics\n",
    "fig.save(f\"{figures}/profile-metrics/auprc.pdf\")\n",
    "fig.save(f\"{figures}/profile-metrics/auprc.png\", dpi=300)\n",
    "fig"
   ]
  },
  {
   "cell_type": "code",
   "execution_count": 50,
   "metadata": {},
   "outputs": [],
   "source": [
    "!mkdir -p {figures}/profile-metrics"
   ]
  },
  {
   "cell_type": "markdown",
   "metadata": {},
   "source": [
    "### Scatterplot"
   ]
  },
  {
   "cell_type": "code",
   "execution_count": 78,
   "metadata": {},
   "outputs": [],
   "source": [
    "def regression_eval(y_true, y_pred, alpha=0.5, markersize=2, task=\"\", ax=None, same_lim=False, loglog=False):\n",
    "    if ax is None:\n",
    "        fig, ax = plt.subplots(1)\n",
    "    from scipy.stats import pearsonr, spearmanr\n",
    "    xmax = max([y_true.max(), y_pred.max()])\n",
    "    xmin = min([y_true.min(), y_pred.min()])\n",
    "    \n",
    "    if loglog:\n",
    "        pearson, pearson_pval = pearsonr(np.log10(y_true), np.log10(y_pred))\n",
    "        spearman, spearman_pval = spearmanr(np.log10(y_true), np.log(y_pred))\n",
    "    else:\n",
    "        pearson, pearson_pval = pearsonr(y_true, y_pred)\n",
    "        spearman, spearman_pval = spearmanr(y_true, y_pred)\n",
    "    if loglog:\n",
    "        plt_fn = ax.loglog\n",
    "    else:\n",
    "        plt_fn = ax.plot\n",
    "        \n",
    "    plt_fn(y_pred, y_true, \".\", \n",
    "           markersize=markersize, \n",
    "           rasterized=True,\n",
    "           alpha=alpha)\n",
    "    ax.set_xlabel(\"Predicted\")\n",
    "    ax.set_ylabel(\"Observed\")\n",
    "    \n",
    "    if same_lim:\n",
    "        ax.set_xlim((xmin, xmax))\n",
    "        ax.set_ylim((xmin, xmax))\n",
    "    \n",
    "    ax.set_title(task)\n",
    "    ax.text(0.95, .01, f\"R={spearman:.2f}\",\n",
    "            verticalalignment='bottom',\n",
    "            horizontalalignment='right',\n",
    "            fontsize=8,\n",
    "            transform=ax.transAxes)"
   ]
  },
  {
   "cell_type": "code",
   "execution_count": 79,
   "metadata": {},
   "outputs": [
    {
     "data": {
      "image/png": "[encoded data removed]",
      "text/plain": [
       "<Figure size 342.519x171.26 with 8 Axes>"
      ]
     },
     "metadata": {
      "image/png": {
       "height": 206,
       "width": 340
      }
     },
     "output_type": "display_data"
    }
   ],
   "source": [
    "fig, axes = plt.subplots(2, len(tasks), figsize=get_figsize(frac=.5, aspect=2/len(tasks)),\n",
    "                         sharex=True, sharey=True)\n",
    "for i, task in enumerate(tasks):\n",
    "    for j in range(2):\n",
    "        ax = axes[j,i]\n",
    "        \n",
    "        if j == 0:\n",
    "            # yp = np.exp(y_pred[f'{task}/counts'].mean(-1)*0.9)\n",
    "            yp = np.exp(y_pred[f'{task}/counts'].mean(-1))\n",
    "            # yt = y_true[f'{task}/counts'].mean(-1) + 1\n",
    "            yt = np.exp(y_true[f'counts/{task}'].mean(-1))\n",
    "        else:\n",
    "            yt = test[task].sum(axis=1).mean(-1) + 1\n",
    "            yp = train[task].sum(axis=1).mean(-1) + 1\n",
    "        xrange = [2, 5e3]\n",
    "        ax.set_ylim(xrange)\n",
    "        ax.set_xlim(xrange)\n",
    "\n",
    "        ax.plot(xrange, xrange, c='grey', alpha=0.2)\n",
    "        regression_eval(yt, \n",
    "                        yp, alpha=.01, task=task if j == 0 else '', ax=ax, loglog=True)\n",
    "        \n",
    "        ax.xaxis.set_major_locator(ticker.LogLocator(base=10.0, numticks=3))\n",
    "        ax.yaxis.set_major_locator(ticker.LogLocator(base=10.0, numticks=3))\n",
    "        if i > 0:\n",
    "            ax.set_ylabel(\"\")\n",
    "        else:\n",
    "            ax.set_ylabel(\"BPNet\\nObserved\" if j==0 else \"Replicates\\n\")\n",
    "fig.subplots_adjust(wspace=0, hspace=0)\n",
    "plt.minorticks_off()\n",
    "# Save the figure\n",
    "fig.savefig(f\"{figures}/scatter/all.pdf\", dpi=300)\n",
    "# fig.savefig(f\"{figures}/scatter/all.png\")"
   ]
  }
 ],
 "metadata": {
  "kernelspec": {
   "display_name": "Python [conda env:bpnet-manuscript]",
   "language": "python",
   "name": "conda-env-bpnet-manuscript-py"
  },
  "language_info": {
   "codemirror_mode": {
    "name": "ipython",
    "version": 3
   },
   "file_extension": ".py",
   "mimetype": "text/x-python",
   "name": "python",
   "nbconvert_exporter": "python",
   "pygments_lexer": "ipython3",
   "version": "3.6.8"
  }
 },
 "nbformat": 4,
 "nbformat_minor": 2
}
