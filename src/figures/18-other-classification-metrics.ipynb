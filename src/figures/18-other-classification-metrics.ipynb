{
 "cells": [
  {
   "cell_type": "code",
   "execution_count": 31,
   "metadata": {},
   "outputs": [],
   "source": [
    "%matplotlib inline\n",
    "%config InlineBackend.figure_format = 'retina'\n",
    "\n",
    "from basepair.imports import *\n",
    "from basepair.extractors import bw_extract\n",
    "from basepair.datasets import StrandedProfile\n",
    "from basepair.preproc import AppendCounts\n",
    "from basepair.config import valid_chr, test_chr\n",
    "from basepair.plot.evaluate import regression_eval\n",
    "from basepair.plot.utils import plt9_tilt_xlab\n",
    "from basepair.cli.evaluate import eval_profile\n",
    "from basepair.exp.paper.config import *\n",
    "from basepair.data import Dataset\n",
    "import matplotlib.ticker as ticker\n",
    "import tree\n",
    "from kipoi.data_utils import (numpy_collate, numpy_collate_concat, get_dataset_item,\n",
    "                              DataloaderIterable, batch_gen, get_dataset_lens, iterable_cycle)\n",
    "import warnings\n",
    "warnings.filterwarnings(\"ignore\")\n",
    "\n",
    "paper_config() # Use matplotlib paper config"
   ]
  },
  {
   "cell_type": "code",
   "execution_count": 2,
   "metadata": {},
   "outputs": [],
   "source": [
    "# Main metrics\n",
    "from gin_train.metrics import auprc, auc\n",
    "from sklearn.metrics import precision_recall_curve\n",
    "from concise.eval_metrics import auprc, auc\n",
    "\n",
    "\n",
    "class RecallAtFDR:\n",
    "    def __init__(self, fdr):\n",
    "        self._fdr = fdr\n",
    "        \n",
    "    def __call__(self, y_true, y_pred):\n",
    "        precision, recall, _ = precision_recall_curve(y_true[y_true != -1],\n",
    "                                                      y_pred[y_true != -1])\n",
    "        precision_threshold = 1 - self._fdr\n",
    "        # recall[np.searchsorted(precision - precision_threshold, 0)]\n",
    "        return recall[precision >= precision_threshold].max()\n",
    "\n",
    "metrics = {'auPRC': auprc,\n",
    "           'Recall @ 10% FDR': RecallAtFDR(0.1),\n",
    "           'Recall @ 20% FDR': RecallAtFDR(0.2),\n",
    "           'Recall @ 50% FDR': RecallAtFDR(0.5),\n",
    "           'auROC': auc\n",
    "          }"
   ]
  },
  {
   "cell_type": "code",
   "execution_count": 3,
   "metadata": {},
   "outputs": [],
   "source": [
    "experiments = {\n",
    "    'nexus/binary': 'nexus,gw,OSNK,1,0,0,FALSE,same,0.5,64,25,0.001,9,FALSE',\n",
    "    'nexus/binary+profile': 'nexus,gw,OSNK,1,0.1,0.01,FALSE,same,0.5,64,25,0.001,9,FALSE',\n",
    "    'nexus/binary+profile-bias-corrected': 'nexus,gw,OSNK,1,0.1,0.01,FALSE,same,0.5,64,25,0.001,9,FALSE,[1,50],TRUE,None',\n",
    "}"
   ]
  },
  {
   "cell_type": "code",
   "execution_count": 4,
   "metadata": {},
   "outputs": [],
   "source": [
    "from basepair.config import get_data_dir, get_repo_root\n",
    "rdir = get_repo_root()\n",
    "\n",
    "# Parameters\n",
    "dataspec_file = rdir / \"src/bpnet-pipeline/ChIP-nexus.dataspec.yml\"\n",
    "fdir = Path(f'{ddir}/figures/method-comparison/modisco')\n",
    "seq_width = 1000\n",
    "num_workers = 10"
   ]
  },
  {
   "cell_type": "code",
   "execution_count": 5,
   "metadata": {},
   "outputs": [],
   "source": [
    "from basepair.datasets import get_gw_StrandedProfile_datasets"
   ]
  },
  {
   "cell_type": "code",
   "execution_count": 21,
   "metadata": {},
   "outputs": [
    {
     "name": "stdout",
     "output_type": "stream",
     "text": [
      "Skipped 13 intervals outside of the genome size\n",
      "Skipped 3 intervals outside of the genome size\n",
      "Skipped 3 intervals outside of the genome size\n"
     ]
    }
   ],
   "source": [
    "intervals_file = ('/oak/stanford/groups/akundaje/avsec/basepair/data/processed/'\n",
    "                  'comparison/data/chip-nexus/OSNK.50-percent-overlap.tsv.gz')\n",
    "# Alternatively: OSN -> start.\n",
    "\n",
    "data = get_gw_StrandedProfile_datasets(\n",
    "    valid_chr=['chr2', 'chr3', 'chr4'],\n",
    "    test_chr=['chr1', 'chr8', 'chr9'],\n",
    "    intervals_file=intervals_file,\n",
    "    peak_width=1000,\n",
    "    include_metadata=True,\n",
    "    include_classes=True,\n",
    "    tasks=['Oct4', 'Sox2', 'Nanog', 'Klf4'],\n",
    "    exclude_chr=['chrX', 'chrY'],\n",
    "    taskname_first=True,\n",
    "    profile_bias_pool_size=None,  # TODO(avsec)?\n",
    "    dataspec='../bpnet-pipeline/ChIP-nexus.dataspec.yml',\n",
    "    seq_width=1000,\n",
    "    only_classes=False,\n",
    "    )"
   ]
  },
  {
   "cell_type": "code",
   "execution_count": 22,
   "metadata": {},
   "outputs": [],
   "source": [
    "valid = dict(data[1])['valid-genome-wide']"
   ]
  },
  {
   "cell_type": "code",
   "execution_count": 8,
   "metadata": {},
   "outputs": [
    {
     "data": {
      "text/plain": [
       "9973070"
      ]
     },
     "execution_count": 8,
     "metadata": {},
     "output_type": "execute_result"
    }
   ],
   "source": [
    "len(valid)"
   ]
  },
  {
   "cell_type": "code",
   "execution_count": 9,
   "metadata": {},
   "outputs": [
    {
     "data": {
      "text/plain": [
       "dict_keys(['inputs', 'targets', 'metadata'])"
      ]
     },
     "execution_count": 9,
     "metadata": {},
     "output_type": "execute_result"
    }
   ],
   "source": [
    "valid[0].keys()"
   ]
  },
  {
   "cell_type": "markdown",
   "metadata": {},
   "source": [
    "### Evaluate experimental replicates"
   ]
  },
  {
   "cell_type": "code",
   "execution_count": 10,
   "metadata": {},
   "outputs": [],
   "source": [
    "rep_indices = [f'N{x:02d}' for x in np.arange(1, 21)]\n",
    "reps = pd.read_csv(\"https://docs.google.com/spreadsheets/d/1PvHGy0P9_Yq0tZFw807bjadxaZHAYECE4RytlI9rdeQ/export?gid=0&format=csv\")\n",
    "reps = reps[reps.Mnemonic.isin(rep_indices)]"
   ]
  },
  {
   "cell_type": "code",
   "execution_count": 11,
   "metadata": {},
   "outputs": [],
   "source": [
    "def get_bigwig(row, strand):\n",
    "    rep_n = int(row['Rep Number'])\n",
    "    task = row['TF Name'].capitalize()\n",
    "    rep_name = row['FTP Name'].split(\".\")[0]\n",
    "    pipeline_dir = '/oak/stanford/groups/akundaje/avsec/software/chip-nexus-pipeline/cromwell-executions/chip_nexus'\n",
    "    path = f\"{pipeline_dir}/{task}/call-count_signal_track/shard-{rep_n -1}/execution/{rep_name}.trim.merged.nodup.{strand}.bigwig\"\n",
    "    if not os.path.exists(path):\n",
    "        raise ValueError(f'Path {path} does not exist.')\n",
    "    return path\n",
    "\n",
    "def get_taskspec(rows):\n",
    "    task = rows.iloc[0]['TF Name'].capitalize()\n",
    "    pos_counts=[get_bigwig(rows.iloc[i], 'positive') for i in range(len(rows))]\n",
    "    neg_counts=[get_bigwig(rows.iloc[i], 'negative') for i in range(len(rows))]\n",
    "    return TaskSpec(task=task, pos_counts=pos_counts, neg_counts=neg_counts)"
   ]
  },
  {
   "cell_type": "code",
   "execution_count": 36,
   "metadata": {},
   "outputs": [],
   "source": [
    "def dataspec_metarep1_fn():\n",
    "    dataspec_metarep1 = DataSpec(task_specs={task: get_taskspec(reps[(reps['TF Name'].str.capitalize() == task) & (reps['Held-out test'] == False)])\n",
    "                                                     for task in tasks},\n",
    "                      fasta_file=\"\")\n",
    "    dataspec_metarep1.touch_all_files()\n",
    "    return dataspec_metarep1\n",
    "\n",
    "def dataspec_metarep2_fn():\n",
    "    dataspec_metarep2 = DataSpec(task_specs={task: get_taskspec(reps[(reps['TF Name'].str.capitalize() == task) & (reps['Held-out test'] == True)])\n",
    "                                                     for task in tasks},\n",
    "                      fasta_file=\"\")\n",
    "\n",
    "    dataspec_metarep2.touch_all_files()\n",
    "    return dataspec_metarep2"
   ]
  },
  {
   "cell_type": "code",
   "execution_count": 37,
   "metadata": {},
   "outputs": [],
   "source": [
    "import pybedtools\n",
    "from basepair.preproc import resize_interval\n",
    "\n",
    "\n",
    "def range2intervals(range_dict, resize=None):\n",
    "    r = range_dict\n",
    "    intervals = []\n",
    "    for i in range(len(r['start'])):\n",
    "        interval = pybedtools.create_interval_from_list([r['chr'][i], int(r['start'][i]), int(r['end'][i])])\n",
    "        if resize is not None:\n",
    "            interval = resize_interval(interval, resize)\n",
    "        intervals.append(interval)\n",
    "    return intervals"
   ]
  },
  {
   "cell_type": "code",
   "execution_count": 41,
   "metadata": {},
   "outputs": [],
   "source": [
    "# TODO - make sure pyBigWig is loaded on each thread separately - wrap the dataspec into a funtion\n",
    "class ReplicateDataset(Dataset):\n",
    "    def __init__(self, intervals, dataspec_metarep_fn, interval_width=200):\n",
    "        self.intervals = intervals\n",
    "        self._dataspec_metarep_fn = dataspec_metarep_fn\n",
    "        self._dataspec_metarep = None\n",
    "\n",
    "    def __len__(self):\n",
    "        return len(self.intervals)\n",
    "\n",
    "    def __getitem__(self, idx):\n",
    "        if self._dataspec_metarep is None:\n",
    "            self._dataspec_metarep = self._dataspec_metarep_fn()\n",
    "        interval = self.intervals[idx]\n",
    "        output = self._dataspec_metarep.load_counts([interval])\n",
    "        return {'predicted/' + task: output[task].sum(axis=(1,2)) for task in output}"
   ]
  },
  {
   "cell_type": "code",
   "execution_count": 63,
   "metadata": {},
   "outputs": [],
   "source": [
    "from kipoi.data import BatchDataset\n",
    "\n",
    "# TODO - make sure pyBigWig is loaded on each thread separately - wrap the dataspec into a funtion\n",
    "class ReplicateBatchDataset(BatchDataset):\n",
    "    def __init__(self, intervals, dataspec_metarep_fn, batch_size=batch_size):\n",
    "        self.intervals = intervals\n",
    "        self.batch_size = batch_size\n",
    "        self._dataspec_metarep_fn = dataspec_metarep_fn\n",
    "        self._dataspec_metarep = None\n",
    "\n",
    "    def __len__(self):\n",
    "        return len(self.intervals) // self.batch_size + 1\n",
    "\n",
    "    def __getitem__(self, idx):\n",
    "        if self._dataspec_metarep is None:\n",
    "            self._dataspec_metarep = self._dataspec_metarep_fn()\n",
    "        sl = slice(idx * self.batch_size, (idx + 1) * self.batch_size)\n",
    "        intervals = self.intervals[sl]\n",
    "        output = self._dataspec_metarep.load_counts(intervals)\n",
    "        return {'predicted/' + task: output[task].sum(axis=(1,2)) for task in output}"
   ]
  },
  {
   "cell_type": "code",
   "execution_count": 43,
   "metadata": {},
   "outputs": [],
   "source": [
    "dataset_metarep1 = ReplicateDataset(valid_intervals, dataspec_metarep1_fn)"
   ]
  },
  {
   "cell_type": "code",
   "execution_count": null,
   "metadata": {},
   "outputs": [],
   "source": [
    "dataset_metarep1 = ReplicateBatchDataset(valid_intervals, dataspec_metarep1_fn, batch_size=1024)\n",
    "dataset_metarep1 = dataset_metarep1.load_all(batch_size=1, num_workers=10)"
   ]
  },
  {
   "cell_type": "code",
   "execution_count": 78,
   "metadata": {},
   "outputs": [],
   "source": [
    "# TODO - write a script that will store the predictions into a file:"
   ]
  },
  {
   "cell_type": "code",
   "execution_count": 81,
   "metadata": {},
   "outputs": [],
   "source": [
    "df_intervals = pd.read_csv(intervals_file, sep='\\t')"
   ]
  },
  {
   "cell_type": "code",
   "execution_count": 86,
   "metadata": {},
   "outputs": [],
   "source": [
    "def get_dataspec_metarep(task, test_heldout):\n",
    "    dataspec_metarep1 = DataSpec(task_specs={task: get_taskspec(reps[(reps['TF Name'].str.capitalize() == task) & (reps['Held-out test'] == test_heldout)])},\n",
    "                                 fasta_file=\"\")\n",
    "    dataspec_metarep1.touch_all_files()\n",
    "    return dataspec_metarep1\n",
    "\n",
    "\n",
    "def range2intervals(range_dict, resize=None):\n",
    "    r = range_dict\n",
    "    intervals = []\n",
    "    for i in range(len(r['start'])):\n",
    "        interval = pybedtools.create_interval_from_list([r['chr'][i], int(r['start'][i]), int(r['end'][i])])\n",
    "        if resize is not None:\n",
    "            interval = resize_interval(interval, resize)\n",
    "        intervals.append(interval)\n",
    "    return intervals"
   ]
  },
  {
   "cell_type": "code",
   "execution_count": 85,
   "metadata": {},
   "outputs": [
    {
     "data": {
      "text/html": [
       "<div>\n",
       "<style scoped>\n",
       "    .dataframe tbody tr th:only-of-type {\n",
       "        vertical-align: middle;\n",
       "    }\n",
       "\n",
       "    .dataframe tbody tr th {\n",
       "        vertical-align: top;\n",
       "    }\n",
       "\n",
       "    .dataframe thead th {\n",
       "        text-align: right;\n",
       "    }\n",
       "</style>\n",
       "<table border=\"1\" class=\"dataframe\">\n",
       "  <thead>\n",
       "    <tr style=\"text-align: right;\">\n",
       "      <th></th>\n",
       "      <th>CHR</th>\n",
       "      <th>START</th>\n",
       "      <th>END</th>\n",
       "      <th>Oct4</th>\n",
       "      <th>Sox2</th>\n",
       "      <th>Nanog</th>\n",
       "      <th>Klf4</th>\n",
       "    </tr>\n",
       "  </thead>\n",
       "  <tbody>\n",
       "    <tr>\n",
       "      <th>25277421</th>\n",
       "      <td>chr2</td>\n",
       "      <td>0</td>\n",
       "      <td>1000</td>\n",
       "      <td>0.0</td>\n",
       "      <td>0.0</td>\n",
       "      <td>0.0</td>\n",
       "      <td>0.0</td>\n",
       "    </tr>\n",
       "    <tr>\n",
       "      <th>25277422</th>\n",
       "      <td>chr2</td>\n",
       "      <td>50</td>\n",
       "      <td>1050</td>\n",
       "      <td>0.0</td>\n",
       "      <td>0.0</td>\n",
       "      <td>0.0</td>\n",
       "      <td>0.0</td>\n",
       "    </tr>\n",
       "    <tr>\n",
       "      <th>25277423</th>\n",
       "      <td>chr2</td>\n",
       "      <td>100</td>\n",
       "      <td>1100</td>\n",
       "      <td>0.0</td>\n",
       "      <td>0.0</td>\n",
       "      <td>0.0</td>\n",
       "      <td>0.0</td>\n",
       "    </tr>\n",
       "    <tr>\n",
       "      <th>25277424</th>\n",
       "      <td>chr2</td>\n",
       "      <td>150</td>\n",
       "      <td>1150</td>\n",
       "      <td>0.0</td>\n",
       "      <td>0.0</td>\n",
       "      <td>0.0</td>\n",
       "      <td>0.0</td>\n",
       "    </tr>\n",
       "    <tr>\n",
       "      <th>25277425</th>\n",
       "      <td>chr2</td>\n",
       "      <td>200</td>\n",
       "      <td>1200</td>\n",
       "      <td>0.0</td>\n",
       "      <td>0.0</td>\n",
       "      <td>0.0</td>\n",
       "      <td>0.0</td>\n",
       "    </tr>\n",
       "  </tbody>\n",
       "</table>\n",
       "</div>"
      ],
      "text/plain": [
       "           CHR  START   END  Oct4  Sox2  Nanog  Klf4\n",
       "25277421  chr2      0  1000   0.0   0.0    0.0   0.0\n",
       "25277422  chr2     50  1050   0.0   0.0    0.0   0.0\n",
       "25277423  chr2    100  1100   0.0   0.0    0.0   0.0\n",
       "25277424  chr2    150  1150   0.0   0.0    0.0   0.0\n",
       "25277425  chr2    200  1200   0.0   0.0    0.0   0.0"
      ]
     },
     "execution_count": 85,
     "metadata": {},
     "output_type": "execute_result"
    }
   ],
   "source": [
    "df_intervals.head()"
   ]
  },
  {
   "cell_type": "code",
   "execution_count": 83,
   "metadata": {},
   "outputs": [],
   "source": [
    "valid_chr = ['chr2', 'chr3', 'chr4']\n",
    "df_intervals = df_intervals[df_intervals.CHR.isin(valid_chr)]"
   ]
  },
  {
   "cell_type": "code",
   "execution_count": 88,
   "metadata": {},
   "outputs": [],
   "source": [
    "task = 'Oct4'"
   ]
  },
  {
   "cell_type": "code",
   "execution_count": 87,
   "metadata": {},
   "outputs": [],
   "source": [
    "dataspec_task = get_dataspec_metarep(task, True)"
   ]
  },
  {
   "cell_type": "code",
   "execution_count": null,
   "metadata": {},
   "outputs": [],
   "source": [
    "batch_size = 1000\n"
   ]
  },
  {
   "cell_type": "code",
   "execution_count": null,
   "metadata": {},
   "outputs": [],
   "source": [
    "for i in tqdm(range(len(df_intervals) // batch_size + 1)):\n",
    "    sl = slice(i * batch_size, (i + 1) * batch_size)\n",
    "    df_batch = df_intervals_subset.iloc[sl]\n",
    "    df_batch"
   ]
  },
  {
   "cell_type": "code",
   "execution_count": 24,
   "metadata": {},
   "outputs": [
    {
     "name": "stderr",
     "output_type": "stream",
     "text": [
      "155830it [09:36, 270.44it/s]                            \n"
     ]
    }
   ],
   "source": [
    "# Load all intervals and targets\n",
    "valid_intervals = []\n",
    "target_list = []\n",
    "batch_size = 64\n",
    "for batch in tqdm(valid.batch_iter(batch_size=batch_size, num_workers=8),\n",
    "                  total=len(valid) // batch_size):\n",
    "    valid_intervals += range2intervals(batch['metadata']['range'], resize=200)\n",
    "    target_list.append(batch['targets'])"
   ]
  },
  {
   "cell_type": "code",
   "execution_count": null,
   "metadata": {},
   "outputs": [],
   "source": [
    "# TODO - can we try to load the whole data into memory?"
   ]
  },
  {
   "cell_type": "code",
   "execution_count": null,
   "metadata": {},
   "outputs": [
    {
     "name": "stderr",
     "output_type": "stream",
     "text": [
      "  0%|          | 3/9974 [00:08<7:48:54,  2.82s/it]"
     ]
    }
   ],
   "source": [
    "batch_size = 1000\n",
    "dataspec_metarep1 = dataspec_metarep1_fn()\n",
    "prediction_list_metarep1 = []\n",
    "for i in tqdm(range(len(valid_intervals) // batch_size + 1)):\n",
    "    sl = slice(i * batch_size, (i + 1) * batch_size)\n",
    "    intervals = valid_intervals[sl]\n",
    "    output = dataspec_metarep1.load_counts(intervals)\n",
    "    predictions = {'predicted/' + task: output[task].sum(axis=(1,2)) for task in output}\n",
    "    prediction_list_metarep1.append(predictions)"
   ]
  },
  {
   "cell_type": "code",
   "execution_count": null,
   "metadata": {},
   "outputs": [],
   "source": [
    "batch_size = 1000\n",
    "# dataspec_metarep2.touch_all_files()\n",
    "dataspec_metarep2 = dataspec_metarep2_fn()\n",
    "prediction_list_metarep2 = []\n",
    "for i in tqdm(range(len(valid_intervals) // batch_size + 1)):\n",
    "    sl = slice(i * batch_size, (i + 1) * batch_size)\n",
    "    intervals = valid_intervals[sl]\n",
    "    output = dataspec_metarep2.load_counts(intervals)\n",
    "    predictions = {'predicted/' + task: output[task].sum(axis=(1,2)) for task in output}\n",
    "    prediction_list_metarep2.append(predictions)"
   ]
  },
  {
   "cell_type": "code",
   "execution_count": null,
   "metadata": {},
   "outputs": [],
   "source": [
    "# TODO - evaluate the performance & generate the plots"
   ]
  },
  {
   "cell_type": "code",
   "execution_count": null,
   "metadata": {},
   "outputs": [],
   "source": [
    "targets = numpy_collate_concat(tree.map_structure(np.ravel, target_list))\n",
    "predictions_metarep1 = numpy_collate_concat(tree.map_structure(np.ravel, prediction_list_metarep1))\n",
    "predictions_metarep2 = numpy_collate_concat(tree.map_structure(np.ravel, prediction_list_metarep2))\n",
    "df_metarep1 = pd.DataFrame({**predictions_metarep1, **targets})\n",
    "df_metarep2 = pd.DataFrame({**predictions_metarep2, **targets})"
   ]
  },
  {
   "cell_type": "code",
   "execution_count": null,
   "metadata": {},
   "outputs": [],
   "source": [
    "performance_metrics = []\n",
    "for task in tasks:\n",
    "    print(task)\n",
    "    y_true = df_metarep1[f'{task}/class']\n",
    "    y_pred = df_metarep1[f'predicted/{task}/class']\n",
    "    for metric_name, metric in metrics.items():\n",
    "        performance_metrics.append({'TF': task,\n",
    "                                    'value': metric(y_true[y_true!= -1], y_pred[y_true!= -1]),\n",
    "                                    'metric_name': metric_name,\n",
    "                                    'exp_name': 'metarep1'})\n",
    "\n",
    "for task in tasks:\n",
    "    print(task)\n",
    "    y_true = df_metarep2[f'{task}/class']\n",
    "    y_pred = df_metarep2[f'predicted/{task}/class']\n",
    "    for metric_name, metric in metrics.items():\n",
    "        performance_metrics.append({'TF': task,\n",
    "                                    'value': metric(y_true[y_true!= -1], y_pred[y_true!= -1]),\n",
    "                                    'metric_name': metric_name,\n",
    "                                    'exp_name': 'metarep2'})\n",
    "\n",
    "dfp = pd.DataFrame(performance_metrics)"
   ]
  },
  {
   "cell_type": "code",
   "execution_count": null,
   "metadata": {},
   "outputs": [],
   "source": [
    "print(pd.pivot_table(dfp,  values='value', index=['metric_name', 'TF'], columns='exp_name').to_csv())"
   ]
  },
  {
   "cell_type": "code",
   "execution_count": null,
   "metadata": {},
   "outputs": [],
   "source": [
    "# TODO - aggregate values for both metareps\n",
    "df_list = []\n",
    "for task in tasks:\n",
    "    for method, df in zip(['metarep1', 'metarep2'],\n",
    "                          [df_metarep1, df_metarep2]):\n",
    "        y_true = df[f'{task}/class']\n",
    "        y_pred = df[f'predicted/{task}/class']\n",
    "        precision, recall, thresholds = precision_recall_curve(y_true[y_true != -1], y_pred[y_true != -1])\n",
    "        df_list.append(pd.DataFrame({'precision': precision,\n",
    "                                     'recall': recall,\n",
    "                                     'method': method,\n",
    "                                     'TF': task}))\n",
    "\n",
    "df_pr = pd.concat(df_list, axis=0)\n",
    "df_pr['TF'] = pd.Categorical(df_pr['TF'], tasks)"
   ]
  },
  {
   "cell_type": "code",
   "execution_count": null,
   "metadata": {},
   "outputs": [],
   "source": [
    "print(df_pr.groupby(['method', 'TF']).size().to_string())"
   ]
  },
  {
   "cell_type": "code",
   "execution_count": null,
   "metadata": {},
   "outputs": [],
   "source": [
    "fig = (ggplot(aes(x='recall', y='precision', color='method'),\n",
    "              data=df_pr.sample(frac=0.1))\n",
    "  + geom_line()\n",
    "  + facet_grid('. ~ TF')\n",
    "  + scale_x_continuous(breaks=[0, .5, 1])\n",
    "  + theme_classic()\n",
    "  + theme(figure_size=get_figsize(.5, aspect=0.25))\n",
    "  + scale_color_manual([colors[x] for x in gw_exp])\n",
    ")\n",
    "# fig.save(fdir / 'auPRC.binary-vs-profile+binary-vs-bias-corrected.precision-recall.pdf')\n",
    "fig"
   ]
  },
  {
   "cell_type": "markdown",
   "metadata": {},
   "source": [
    "## Evaluate binary model"
   ]
  },
  {
   "cell_type": "code",
   "execution_count": 157,
   "metadata": {},
   "outputs": [
    {
     "data": {
      "text/plain": [
       "<tensorflow.python.client.session.Session at 0x7f9c026f3eb8>"
      ]
     },
     "execution_count": 157,
     "metadata": {},
     "output_type": "execute_result"
    }
   ],
   "source": [
    "# Use GPU 1\n",
    "gpu = 1\n",
    "create_tf_session(gpu)"
   ]
  },
  {
   "cell_type": "code",
   "execution_count": 158,
   "metadata": {},
   "outputs": [
    {
     "name": "stdout",
     "output_type": "stream",
     "text": [
      "WARNING:tensorflow:From /users/avsec/bin/anaconda3/envs/chipnexus/lib/python3.6/site-packages/tensorflow/python/util/deprecation.py:497: calling conv1d (from tensorflow.python.ops.nn_ops) with data_format=NHWC is deprecated and will be removed in a future version.\n",
      "Instructions for updating:\n",
      "`NHWC` for data_format is deprecated, use `NWC` instead\n"
     ]
    },
    {
     "name": "stderr",
     "output_type": "stream",
     "text": [
      "2020-10-24 22:40:10,057 [WARNING] From /users/avsec/bin/anaconda3/envs/chipnexus/lib/python3.6/site-packages/tensorflow/python/util/deprecation.py:497: calling conv1d (from tensorflow.python.ops.nn_ops) with data_format=NHWC is deprecated and will be removed in a future version.\n",
      "Instructions for updating:\n",
      "`NHWC` for data_format is deprecated, use `NWC` instead\n"
     ]
    }
   ],
   "source": [
    "from basepair.seqmodel import SeqModel\n",
    "bpnet = SeqModel.load(models_dir / experiments['nexus/binary'] / 'seq_model.pkl')"
   ]
  },
  {
   "cell_type": "code",
   "execution_count": 159,
   "metadata": {},
   "outputs": [],
   "source": [
    "it = valid.batch_iter(batch_size=8, num_workers=8)\n",
    "batch = next(it)"
   ]
  },
  {
   "cell_type": "code",
   "execution_count": null,
   "metadata": {},
   "outputs": [],
   "source": [
    "predictions = bpnet.predict(batch['inputs'])"
   ]
  },
  {
   "cell_type": "code",
   "execution_count": null,
   "metadata": {},
   "outputs": [],
   "source": [
    "predictions.keys()"
   ]
  },
  {
   "cell_type": "code",
   "execution_count": null,
   "metadata": {},
   "outputs": [],
   "source": [
    "batch_size = 64\n",
    "prediction_list = []\n",
    "for batch in tqdm(valid.batch_iter(batch_size=batch_size, num_workers=10),\n",
    "                  total=len(valid) // batch_size):\n",
    "    predictions = bpnet.predict(batch['inputs'])\n",
    "    predictions = {'predicted/' + k: v for k, v in predictions.items()\n",
    "                   if k.endswith('/class')}  # Only consider predicted class probabilities\n",
    "    prediction_list.append({**predictions, **batch['targets']})"
   ]
  },
  {
   "cell_type": "code",
   "execution_count": null,
   "metadata": {},
   "outputs": [],
   "source": [
    "len(prediction_list)"
   ]
  },
  {
   "cell_type": "markdown",
   "metadata": {},
   "source": [
    "### Evaluate binary + profile"
   ]
  },
  {
   "cell_type": "code",
   "execution_count": null,
   "metadata": {},
   "outputs": [],
   "source": [
    "bpnet = SeqModel.load(models_dir / experiments['nexus/binary+profile'] / 'seq_model.pkl')"
   ]
  },
  {
   "cell_type": "code",
   "execution_count": null,
   "metadata": {},
   "outputs": [],
   "source": [
    "predictions = bpnet.predict(batch['inputs'])"
   ]
  },
  {
   "cell_type": "code",
   "execution_count": null,
   "metadata": {},
   "outputs": [],
   "source": [
    "predictions.keys()"
   ]
  },
  {
   "cell_type": "code",
   "execution_count": null,
   "metadata": {},
   "outputs": [],
   "source": [
    "batch_size = 32\n",
    "prediction_list2 = []\n",
    "for batch in tqdm(valid.batch_iter(batch_size=batch_size, num_workers=10),\n",
    "                  total=len(valid) // batch_size):\n",
    "    predictions = bpnet.predict(batch['inputs'])\n",
    "    predictions = {'predicted/' + k: v for k, v in predictions.items()\n",
    "                   if k.endswith('/class')}  # Only consider predicted class probabilities\n",
    "    prediction_list2.append({**predictions, **batch['targets']})"
   ]
  },
  {
   "cell_type": "code",
   "execution_count": null,
   "metadata": {},
   "outputs": [],
   "source": [
    "len(prediction_list2)"
   ]
  },
  {
   "cell_type": "markdown",
   "metadata": {},
   "source": [
    "### Evaluate binary + profile-bias-corrected"
   ]
  },
  {
   "cell_type": "code",
   "execution_count": null,
   "metadata": {},
   "outputs": [],
   "source": [
    "bpnet = SeqModel.load(models_dir / experiments['nexus/binary+profile-bias-corrected'] / 'seq_model.pkl')"
   ]
  },
  {
   "cell_type": "code",
   "execution_count": null,
   "metadata": {},
   "outputs": [],
   "source": [
    "predictions = bpnet.predict(batch['inputs'])"
   ]
  },
  {
   "cell_type": "code",
   "execution_count": null,
   "metadata": {},
   "outputs": [],
   "source": [
    "predictions.keys()"
   ]
  },
  {
   "cell_type": "code",
   "execution_count": null,
   "metadata": {},
   "outputs": [],
   "source": [
    "batch_size = 32\n",
    "prediction_list3 = []\n",
    "for batch in tqdm(valid.batch_iter(batch_size=batch_size, num_workers=10),\n",
    "                  total=len(valid) // batch_size):\n",
    "    predictions = bpnet.predict(batch['inputs'])\n",
    "    predictions = {'predicted/' + k: v for k, v in predictions.items()\n",
    "                   if k.endswith('/class')}  # Only consider predicted class probabilities\n",
    "    prediction_list3.append({**predictions, **batch['targets']})"
   ]
  },
  {
   "cell_type": "code",
   "execution_count": null,
   "metadata": {},
   "outputs": [],
   "source": [
    "len(prediction_list3)"
   ]
  },
  {
   "cell_type": "markdown",
   "metadata": {},
   "source": [
    "#### Compute evaluation"
   ]
  },
  {
   "cell_type": "code",
   "execution_count": 52,
   "metadata": {},
   "outputs": [],
   "source": [
    "prediction_list = tree.map_structure(np.ravel, prediction_list)\n",
    "prediction_list2 = tree.map_structure(np.ravel, prediction_list2)\n",
    "prediction_list3 = tree.map_structure(np.ravel, prediction_list3)\n",
    "predictions_bw = numpy_collate_concat(prediction_list)\n",
    "predictions_bw_profile = numpy_collate_concat(prediction_list2)\n",
    "predictions_bw_profile_bias_corrected = numpy_collate_concat(prediction_list3)\n",
    "df_bw = pd.DataFrame(predictions_bw)\n",
    "df_bw_profile = pd.DataFrame(predictions_bw_profile)\n",
    "df_bw_profile_bias_corrected = pd.DataFrame(predictions_bw_profile_bias_corrected)"
   ]
  },
  {
   "cell_type": "code",
   "execution_count": null,
   "metadata": {},
   "outputs": [],
   "source": [
    "# df_bw_profile.to_parquet(models_dir / experiments['nexus/binary+profile'] / 'valid-predictions.parquet')"
   ]
  },
  {
   "cell_type": "code",
   "execution_count": 53,
   "metadata": {},
   "outputs": [
    {
     "data": {
      "text/plain": [
       "(9973070, 9973070, 9973070)"
      ]
     },
     "execution_count": 53,
     "metadata": {},
     "output_type": "execute_result"
    }
   ],
   "source": [
    "len(df_bw), len(df_bw_profile), len(df_bw_profile_bias_corrected)"
   ]
  },
  {
   "cell_type": "code",
   "execution_count": 31,
   "metadata": {},
   "outputs": [
    {
     "data": {
      "text/html": [
       "<div>\n",
       "<style scoped>\n",
       "    .dataframe tbody tr th:only-of-type {\n",
       "        vertical-align: middle;\n",
       "    }\n",
       "\n",
       "    .dataframe tbody tr th {\n",
       "        vertical-align: top;\n",
       "    }\n",
       "\n",
       "    .dataframe thead th {\n",
       "        text-align: right;\n",
       "    }\n",
       "</style>\n",
       "<table border=\"1\" class=\"dataframe\">\n",
       "  <thead>\n",
       "    <tr style=\"text-align: right;\">\n",
       "      <th></th>\n",
       "      <th>predicted/Oct4/class</th>\n",
       "      <th>predicted/Sox2/class</th>\n",
       "      <th>predicted/Nanog/class</th>\n",
       "      <th>predicted/Klf4/class</th>\n",
       "      <th>Oct4/class</th>\n",
       "      <th>Sox2/class</th>\n",
       "      <th>Nanog/class</th>\n",
       "      <th>Klf4/class</th>\n",
       "    </tr>\n",
       "  </thead>\n",
       "  <tbody>\n",
       "    <tr>\n",
       "      <th>0</th>\n",
       "      <td>0.0056</td>\n",
       "      <td>0.0002</td>\n",
       "      <td>2.1804e-05</td>\n",
       "      <td>1.9588e-04</td>\n",
       "      <td>0</td>\n",
       "      <td>0</td>\n",
       "      <td>0</td>\n",
       "      <td>0</td>\n",
       "    </tr>\n",
       "    <tr>\n",
       "      <th>1</th>\n",
       "      <td>0.0010</td>\n",
       "      <td>0.0001</td>\n",
       "      <td>1.0484e-02</td>\n",
       "      <td>3.4111e-04</td>\n",
       "      <td>0</td>\n",
       "      <td>0</td>\n",
       "      <td>0</td>\n",
       "      <td>0</td>\n",
       "    </tr>\n",
       "    <tr>\n",
       "      <th>2</th>\n",
       "      <td>0.0031</td>\n",
       "      <td>0.0001</td>\n",
       "      <td>1.2524e-03</td>\n",
       "      <td>5.5433e-04</td>\n",
       "      <td>0</td>\n",
       "      <td>0</td>\n",
       "      <td>0</td>\n",
       "      <td>0</td>\n",
       "    </tr>\n",
       "    <tr>\n",
       "      <th>3</th>\n",
       "      <td>0.0652</td>\n",
       "      <td>0.0065</td>\n",
       "      <td>5.3110e-02</td>\n",
       "      <td>2.4321e-02</td>\n",
       "      <td>0</td>\n",
       "      <td>0</td>\n",
       "      <td>0</td>\n",
       "      <td>0</td>\n",
       "    </tr>\n",
       "    <tr>\n",
       "      <th>4</th>\n",
       "      <td>0.0006</td>\n",
       "      <td>0.0001</td>\n",
       "      <td>2.6623e-04</td>\n",
       "      <td>8.4928e-05</td>\n",
       "      <td>0</td>\n",
       "      <td>0</td>\n",
       "      <td>0</td>\n",
       "      <td>0</td>\n",
       "    </tr>\n",
       "  </tbody>\n",
       "</table>\n",
       "</div>"
      ],
      "text/plain": [
       "   predicted/Oct4/class  predicted/Sox2/class  predicted/Nanog/class  predicted/Klf4/class  \\\n",
       "0                0.0056                0.0002             2.1804e-05            1.9588e-04   \n",
       "1                0.0010                0.0001             1.0484e-02            3.4111e-04   \n",
       "2                0.0031                0.0001             1.2524e-03            5.5433e-04   \n",
       "3                0.0652                0.0065             5.3110e-02            2.4321e-02   \n",
       "4                0.0006                0.0001             2.6623e-04            8.4928e-05   \n",
       "\n",
       "   Oct4/class  Sox2/class  Nanog/class  Klf4/class  \n",
       "0           0           0            0           0  \n",
       "1           0           0            0           0  \n",
       "2           0           0            0           0  \n",
       "3           0           0            0           0  \n",
       "4           0           0            0           0  "
      ]
     },
     "execution_count": 31,
     "metadata": {},
     "output_type": "execute_result"
    }
   ],
   "source": [
    "df_bw.head()"
   ]
  },
  {
   "cell_type": "code",
   "execution_count": null,
   "metadata": {},
   "outputs": [],
   "source": [
    "# output_path = models_dir / experiments['nexus/binary+profile'] / 'valid-predictions.'\n",
    "\n",
    "# Store outputs\n",
    "\n",
    "# df_bw.to_parquet(models_dir / experiments['nexus/binary'] / 'valid-predictions.parquet')\n",
    "\n",
    "# df_bw_profile.to_parquet(models_dir / experiments['nexus/binary+profile'] / 'valid-predictions.parquet')"
   ]
  },
  {
   "cell_type": "code",
   "execution_count": 33,
   "metadata": {},
   "outputs": [
    {
     "data": {
      "text/html": [
       "<div>\n",
       "<style scoped>\n",
       "    .dataframe tbody tr th:only-of-type {\n",
       "        vertical-align: middle;\n",
       "    }\n",
       "\n",
       "    .dataframe tbody tr th {\n",
       "        vertical-align: top;\n",
       "    }\n",
       "\n",
       "    .dataframe thead th {\n",
       "        text-align: right;\n",
       "    }\n",
       "</style>\n",
       "<table border=\"1\" class=\"dataframe\">\n",
       "  <thead>\n",
       "    <tr style=\"text-align: right;\">\n",
       "      <th></th>\n",
       "      <th>predicted/Oct4/class</th>\n",
       "      <th>predicted/Sox2/class</th>\n",
       "      <th>predicted/Nanog/class</th>\n",
       "      <th>predicted/Klf4/class</th>\n",
       "      <th>Oct4/class</th>\n",
       "      <th>Sox2/class</th>\n",
       "      <th>Nanog/class</th>\n",
       "      <th>Klf4/class</th>\n",
       "    </tr>\n",
       "  </thead>\n",
       "  <tbody>\n",
       "    <tr>\n",
       "      <th>0</th>\n",
       "      <td>0.0006</td>\n",
       "      <td>7.2548e-05</td>\n",
       "      <td>5.8753e-05</td>\n",
       "      <td>0.0001</td>\n",
       "      <td>0</td>\n",
       "      <td>0</td>\n",
       "      <td>0</td>\n",
       "      <td>0</td>\n",
       "    </tr>\n",
       "    <tr>\n",
       "      <th>1</th>\n",
       "      <td>0.0008</td>\n",
       "      <td>7.3824e-05</td>\n",
       "      <td>4.8981e-02</td>\n",
       "      <td>0.0006</td>\n",
       "      <td>0</td>\n",
       "      <td>0</td>\n",
       "      <td>0</td>\n",
       "      <td>0</td>\n",
       "    </tr>\n",
       "    <tr>\n",
       "      <th>2</th>\n",
       "      <td>0.0034</td>\n",
       "      <td>4.2473e-04</td>\n",
       "      <td>4.2303e-04</td>\n",
       "      <td>0.0008</td>\n",
       "      <td>0</td>\n",
       "      <td>0</td>\n",
       "      <td>0</td>\n",
       "      <td>0</td>\n",
       "    </tr>\n",
       "    <tr>\n",
       "      <th>3</th>\n",
       "      <td>0.0051</td>\n",
       "      <td>5.1841e-04</td>\n",
       "      <td>1.4231e-02</td>\n",
       "      <td>0.0183</td>\n",
       "      <td>0</td>\n",
       "      <td>0</td>\n",
       "      <td>0</td>\n",
       "      <td>0</td>\n",
       "    </tr>\n",
       "    <tr>\n",
       "      <th>4</th>\n",
       "      <td>0.0010</td>\n",
       "      <td>1.8300e-04</td>\n",
       "      <td>3.6150e-04</td>\n",
       "      <td>0.0003</td>\n",
       "      <td>0</td>\n",
       "      <td>0</td>\n",
       "      <td>0</td>\n",
       "      <td>0</td>\n",
       "    </tr>\n",
       "  </tbody>\n",
       "</table>\n",
       "</div>"
      ],
      "text/plain": [
       "   predicted/Oct4/class  predicted/Sox2/class  predicted/Nanog/class  predicted/Klf4/class  \\\n",
       "0                0.0006            7.2548e-05             5.8753e-05                0.0001   \n",
       "1                0.0008            7.3824e-05             4.8981e-02                0.0006   \n",
       "2                0.0034            4.2473e-04             4.2303e-04                0.0008   \n",
       "3                0.0051            5.1841e-04             1.4231e-02                0.0183   \n",
       "4                0.0010            1.8300e-04             3.6150e-04                0.0003   \n",
       "\n",
       "   Oct4/class  Sox2/class  Nanog/class  Klf4/class  \n",
       "0           0           0            0           0  \n",
       "1           0           0            0           0  \n",
       "2           0           0            0           0  \n",
       "3           0           0            0           0  \n",
       "4           0           0            0           0  "
      ]
     },
     "execution_count": 33,
     "metadata": {},
     "output_type": "execute_result"
    }
   ],
   "source": [
    "df_bw_profile.head()"
   ]
  },
  {
   "cell_type": "code",
   "execution_count": 57,
   "metadata": {},
   "outputs": [
    {
     "name": "stdout",
     "output_type": "stream",
     "text": [
      "Oct4\n",
      "Sox2\n",
      "Nanog\n",
      "Klf4\n",
      "Oct4\n",
      "Sox2\n",
      "Nanog\n",
      "Klf4\n",
      "Oct4\n",
      "Sox2\n",
      "Nanog\n",
      "Klf4\n"
     ]
    }
   ],
   "source": [
    "performance_metrics = []\n",
    "for task in tasks:\n",
    "    print(task)\n",
    "    y_true = df_bw[f'{task}/class']\n",
    "    y_pred = df_bw[f'predicted/{task}/class']\n",
    "    for metric_name, metric in metrics.items():\n",
    "        performance_metrics.append({'TF': task,\n",
    "                                    'value': metric(y_true[y_true!= -1], y_pred[y_true!= -1]),\n",
    "                                    'metric_name': metric_name,\n",
    "                                    'exp_name': 'nexus/binary'})\n",
    "\n",
    "for task in tasks:\n",
    "    print(task)\n",
    "    y_true = df_bw_profile[f'{task}/class']\n",
    "    y_pred = df_bw_profile[f'predicted/{task}/class']\n",
    "    for metric_name, metric in metrics.items():\n",
    "        performance_metrics.append({'TF': task,\n",
    "                                    'value': metric(y_true[y_true!= -1], y_pred[y_true!= -1]),\n",
    "                                    'metric_name': metric_name,\n",
    "                                    'exp_name': 'nexus/binary+profile'})\n",
    "\n",
    "for task in tasks:\n",
    "    print(task)\n",
    "    y_true = df_bw_profile_bias_corrected[f'{task}/class']\n",
    "    y_pred = df_bw_profile_bias_corrected[f'predicted/{task}/class']\n",
    "    for metric_name, metric in metrics.items():\n",
    "        performance_metrics.append({'TF': task,\n",
    "                                    'value': metric(y_true[y_true!= -1], y_pred[y_true!= -1]),\n",
    "                                    'metric_name': metric_name,\n",
    "                                    'exp_name': 'nexus/binary+profile-bias-corrected'})"
   ]
  },
  {
   "cell_type": "code",
   "execution_count": 76,
   "metadata": {},
   "outputs": [],
   "source": [
    "dfp = pd.DataFrame(performance_metrics)\n",
    "colors = {\"nexus/binary\": \"#EE8030\",\n",
    "          \"nexus/profile\": \"#498AAD\",\n",
    "          \"random\": \"#586BA4\",\n",
    "          \"nexus/binary+profile\": \"#4E598C\",\n",
    "          \"nexus/binary+profile-bias-corrected\": \"#498AAD\"\n",
    "         }\n",
    "gw_exp = ['nexus/binary', 'nexus/binary+profile', 'nexus/binary+profile-bias-corrected', 'random']"
   ]
  },
  {
   "cell_type": "code",
   "execution_count": 59,
   "metadata": {},
   "outputs": [
    {
     "name": "stdout",
     "output_type": "stream",
     "text": [
      "       TF                  exp_name       metric_name       value\n",
      "15   Klf4              nexus/binary             auPRC  4.2717e-01\n",
      "16   Klf4              nexus/binary  Recall @ 10% FDR  2.5686e-04\n",
      "17   Klf4              nexus/binary  Recall @ 20% FDR  1.0019e-01\n",
      "18   Klf4              nexus/binary  Recall @ 50% FDR  4.1397e-01\n",
      "19   Klf4              nexus/binary             auROC  9.4870e-01\n",
      "35   Klf4      nexus/binary+profile             auPRC  4.7665e-01\n",
      "36   Klf4      nexus/binary+profile  Recall @ 10% FDR  3.3797e-05\n",
      "37   Klf4      nexus/binary+profile  Recall @ 20% FDR  1.5059e-01\n",
      "38   Klf4      nexus/binary+profile  Recall @ 50% FDR  4.7865e-01\n",
      "39   Klf4      nexus/binary+profile             auROC  9.6361e-01\n",
      "55   Klf4  nexus/binary+profile-...             auPRC  4.6669e-01\n",
      "56   Klf4  nexus/binary+profile-...  Recall @ 10% FDR  2.1333e-02\n",
      "57   Klf4  nexus/binary+profile-...  Recall @ 20% FDR  1.5728e-01\n",
      "58   Klf4  nexus/binary+profile-...  Recall @ 50% FDR  4.5374e-01\n",
      "59   Klf4  nexus/binary+profile-...             auROC  9.6102e-01\n",
      "10  Nanog              nexus/binary             auPRC  2.2199e-01\n",
      "11  Nanog              nexus/binary  Recall @ 10% FDR  0.0000e+00\n",
      "12  Nanog              nexus/binary  Recall @ 20% FDR  0.0000e+00\n",
      "13  Nanog              nexus/binary  Recall @ 50% FDR  9.0317e-02\n",
      "14  Nanog              nexus/binary             auROC  9.2615e-01\n",
      "30  Nanog      nexus/binary+profile             auPRC  2.6858e-01\n",
      "31  Nanog      nexus/binary+profile  Recall @ 10% FDR  0.0000e+00\n",
      "32  Nanog      nexus/binary+profile  Recall @ 20% FDR  0.0000e+00\n",
      "33  Nanog      nexus/binary+profile  Recall @ 50% FDR  1.5513e-01\n",
      "34  Nanog      nexus/binary+profile             auROC  9.4264e-01\n",
      "50  Nanog  nexus/binary+profile-...             auPRC  2.6175e-01\n",
      "51  Nanog  nexus/binary+profile-...  Recall @ 10% FDR  5.4397e-05\n",
      "52  Nanog  nexus/binary+profile-...  Recall @ 20% FDR  6.8903e-04\n",
      "53  Nanog  nexus/binary+profile-...  Recall @ 50% FDR  1.3003e-01\n",
      "54  Nanog  nexus/binary+profile-...             auROC  9.3998e-01\n",
      "0    Oct4              nexus/binary             auPRC  1.8514e-01\n",
      "1    Oct4              nexus/binary  Recall @ 10% FDR  1.0571e-03\n",
      "2    Oct4              nexus/binary  Recall @ 20% FDR  7.1536e-03\n",
      "3    Oct4              nexus/binary  Recall @ 50% FDR  6.6366e-02\n",
      "4    Oct4              nexus/binary             auROC  9.0749e-01\n",
      "20   Oct4      nexus/binary+profile             auPRC  2.5637e-01\n",
      "21   Oct4      nexus/binary+profile  Recall @ 10% FDR  0.0000e+00\n",
      "22   Oct4      nexus/binary+profile  Recall @ 20% FDR  3.0526e-02\n",
      "23   Oct4      nexus/binary+profile  Recall @ 50% FDR  1.4642e-01\n",
      "24   Oct4      nexus/binary+profile             auROC  9.3836e-01\n",
      "40   Oct4  nexus/binary+profile-...             auPRC  2.4700e-01\n",
      "41   Oct4  nexus/binary+profile-...  Recall @ 10% FDR  6.9509e-04\n",
      "42   Oct4  nexus/binary+profile-...  Recall @ 20% FDR  5.9082e-03\n",
      "43   Oct4  nexus/binary+profile-...  Recall @ 50% FDR  1.2590e-01\n",
      "44   Oct4  nexus/binary+profile-...             auROC  9.3618e-01\n",
      "5    Sox2              nexus/binary             auPRC  1.3717e-01\n",
      "6    Sox2              nexus/binary  Recall @ 10% FDR  0.0000e+00\n",
      "7    Sox2              nexus/binary  Recall @ 20% FDR  0.0000e+00\n",
      "8    Sox2              nexus/binary  Recall @ 50% FDR  4.1224e-02\n",
      "9    Sox2              nexus/binary             auROC  8.9831e-01\n",
      "25   Sox2      nexus/binary+profile             auPRC  2.2738e-01\n",
      "26   Sox2      nexus/binary+profile  Recall @ 10% FDR  0.0000e+00\n",
      "27   Sox2      nexus/binary+profile  Recall @ 20% FDR  0.0000e+00\n",
      "28   Sox2      nexus/binary+profile  Recall @ 50% FDR  1.4044e-01\n",
      "29   Sox2      nexus/binary+profile             auROC  9.4465e-01\n",
      "45   Sox2  nexus/binary+profile-...             auPRC  2.2886e-01\n",
      "46   Sox2  nexus/binary+profile-...  Recall @ 10% FDR  3.8890e-04\n",
      "47   Sox2  nexus/binary+profile-...  Recall @ 20% FDR  3.8890e-04\n",
      "48   Sox2  nexus/binary+profile-...  Recall @ 50% FDR  1.3365e-01\n",
      "49   Sox2  nexus/binary+profile-...             auROC  9.4994e-01\n"
     ]
    }
   ],
   "source": [
    "print(dfp.sort_values(['TF', 'exp_name']).to_string())"
   ]
  },
  {
   "cell_type": "code",
   "execution_count": 81,
   "metadata": {},
   "outputs": [
    {
     "data": {
      "image/png": "[encoded data removed]",
      "text/plain": [
       "<Figure size 171.26x105.838 with 1 Axes>"
      ]
     },
     "metadata": {
      "image/png": {
       "height": 144,
       "width": 424
      }
     },
     "output_type": "display_data"
    },
    {
     "data": {
      "text/plain": [
       "<ggplot: (8743993176745)>"
      ]
     },
     "execution_count": 81,
     "metadata": {},
     "output_type": "execute_result"
    }
   ],
   "source": [
    "plotnine.options.figure_size = get_figsize(.25)\n",
    "fig = (ggplot(aes(x='TF', fill='exp_name', y='value'), dfp[dfp.metric_name == 'auPRC']) + \n",
    "       geom_bar(stat='identity', position='dodge') + \n",
    "       theme_classic(base_size=10, base_family='Arial') +  \\\n",
    "       scale_fill_manual([colors[x] for x in gw_exp]) + \\\n",
    "       ylab(\"auPRC\") \n",
    "      )\n",
    "fig.save(fdir / 'auPRC.binary-vs-profile+binary.with-bias-corrected.bar.v2.pdf')\n",
    "fig"
   ]
  },
  {
   "cell_type": "code",
   "execution_count": 63,
   "metadata": {},
   "outputs": [
    {
     "name": "stdout",
     "output_type": "stream",
     "text": [
      "metric_name,TF,nexus/binary,nexus/binary+profile,nexus/binary+profile-bias-corrected\n",
      "Recall @ 10% FDR,Klf4,0.000256855680904132,3.3796800118964735e-05,0.02133254023509054\n",
      "Recall @ 10% FDR,Nanog,0.0,0.0,5.439709882139619e-05\n",
      "Recall @ 10% FDR,Oct4,0.0010571130676552364,0.0,0.0006950880444856349\n",
      "Recall @ 10% FDR,Sox2,0.0,0.0,0.000388903292714545\n",
      "Recall @ 20% FDR,Klf4,0.10018723427265906,0.15059178197008308,0.1572767890336143\n",
      "Recall @ 20% FDR,Nanog,0.0,0.0,0.0006890299184043518\n",
      "Recall @ 20% FDR,Oct4,0.007153614457831325,0.030525949953660796,0.005908248378127896\n",
      "Recall @ 20% FDR,Sox2,0.0,0.0,0.000388903292714545\n",
      "Recall @ 50% FDR,Klf4,0.41397024529717524,0.47865056136484996,0.4537355603171492\n",
      "Recall @ 50% FDR,Nanog,0.09031731640979147,0.15513145965548505,0.1300271985494107\n",
      "Recall @ 50% FDR,Oct4,0.06636642724745134,0.14641740037071363,0.1258978220574606\n",
      "Recall @ 50% FDR,Sox2,0.04122374902774177,0.14043730014691902,0.13365309826289862\n",
      "auPRC,Klf4,0.4271689282760627,0.4766495663356172,0.4666867311465672\n",
      "auPRC,Nanog,0.22199381184813288,0.2685828393578251,0.26174657440259635\n",
      "auPRC,Oct4,0.18514122499310426,0.25637152317867934,0.24699707272283117\n",
      "auPRC,Sox2,0.13716753260689735,0.2273756767712926,0.22885895141152887\n",
      "auROC,Klf4,0.9487029179481928,0.9636103577710231,0.9610178655997831\n",
      "auROC,Nanog,0.9261501972855499,0.9426410759978643,0.939975638476318\n",
      "auROC,Oct4,0.9074884561109434,0.938355389253102,0.9361840591139291\n",
      "auROC,Sox2,0.8983082401868323,0.9446543126107166,0.9499368298647497\n",
      "\n"
     ]
    }
   ],
   "source": [
    "print(pd.pivot_table(dfp,  values='value', index=['metric_name', 'TF'], columns='exp_name').to_csv())"
   ]
  },
  {
   "cell_type": "code",
   "execution_count": 64,
   "metadata": {},
   "outputs": [
    {
     "name": "stdout",
     "output_type": "stream",
     "text": [
      "exp_name                nexus/binary  nexus/binary+profile  nexus/binary+profile-bias-corrected\n",
      "metric_name      TF                                                                            \n",
      "Recall @ 10% FDR Klf4         0.0003            3.3797e-05                2.1333e-02           \n",
      "                 Nanog        0.0000            0.0000e+00                5.4397e-05           \n",
      "                 Oct4         0.0011            0.0000e+00                6.9509e-04           \n",
      "                 Sox2         0.0000            0.0000e+00                3.8890e-04           \n",
      "Recall @ 20% FDR Klf4         0.1002            1.5059e-01                1.5728e-01           \n",
      "                 Nanog        0.0000            0.0000e+00                6.8903e-04           \n",
      "                 Oct4         0.0072            3.0526e-02                5.9082e-03           \n",
      "                 Sox2         0.0000            0.0000e+00                3.8890e-04           \n",
      "Recall @ 50% FDR Klf4         0.4140            4.7865e-01                4.5374e-01           \n",
      "                 Nanog        0.0903            1.5513e-01                1.3003e-01           \n",
      "                 Oct4         0.0664            1.4642e-01                1.2590e-01           \n",
      "                 Sox2         0.0412            1.4044e-01                1.3365e-01           \n",
      "auPRC            Klf4         0.4272            4.7665e-01                4.6669e-01           \n",
      "                 Nanog        0.2220            2.6858e-01                2.6175e-01           \n",
      "                 Oct4         0.1851            2.5637e-01                2.4700e-01           \n",
      "                 Sox2         0.1372            2.2738e-01                2.2886e-01           \n",
      "auROC            Klf4         0.9487            9.6361e-01                9.6102e-01           \n",
      "                 Nanog        0.9262            9.4264e-01                9.3998e-01           \n",
      "                 Oct4         0.9075            9.3836e-01                9.3618e-01           \n",
      "                 Sox2         0.8983            9.4465e-01                9.4994e-01           \n"
     ]
    }
   ],
   "source": [
    "print(pd.pivot_table(dfp,  values='value', index=['metric_name', 'TF'], columns='exp_name').to_string())"
   ]
  },
  {
   "cell_type": "code",
   "execution_count": 65,
   "metadata": {},
   "outputs": [
    {
     "data": {
      "text/html": [
       "<div>\n",
       "<style scoped>\n",
       "    .dataframe tbody tr th:only-of-type {\n",
       "        vertical-align: middle;\n",
       "    }\n",
       "\n",
       "    .dataframe tbody tr th {\n",
       "        vertical-align: top;\n",
       "    }\n",
       "\n",
       "    .dataframe thead th {\n",
       "        text-align: right;\n",
       "    }\n",
       "</style>\n",
       "<table border=\"1\" class=\"dataframe\">\n",
       "  <thead>\n",
       "    <tr style=\"text-align: right;\">\n",
       "      <th></th>\n",
       "      <th>TF</th>\n",
       "      <th>exp_name</th>\n",
       "      <th>metric_name</th>\n",
       "      <th>value</th>\n",
       "    </tr>\n",
       "  </thead>\n",
       "  <tbody>\n",
       "    <tr>\n",
       "      <th>0</th>\n",
       "      <td>Oct4</td>\n",
       "      <td>nexus/binary</td>\n",
       "      <td>auPRC</td>\n",
       "      <td>0.1851</td>\n",
       "    </tr>\n",
       "    <tr>\n",
       "      <th>1</th>\n",
       "      <td>Oct4</td>\n",
       "      <td>nexus/binary</td>\n",
       "      <td>Recall @ 10% FDR</td>\n",
       "      <td>0.0011</td>\n",
       "    </tr>\n",
       "    <tr>\n",
       "      <th>2</th>\n",
       "      <td>Oct4</td>\n",
       "      <td>nexus/binary</td>\n",
       "      <td>Recall @ 20% FDR</td>\n",
       "      <td>0.0072</td>\n",
       "    </tr>\n",
       "    <tr>\n",
       "      <th>...</th>\n",
       "      <td>...</td>\n",
       "      <td>...</td>\n",
       "      <td>...</td>\n",
       "      <td>...</td>\n",
       "    </tr>\n",
       "    <tr>\n",
       "      <th>57</th>\n",
       "      <td>Klf4</td>\n",
       "      <td>nexus/binary+profile-...</td>\n",
       "      <td>Recall @ 20% FDR</td>\n",
       "      <td>0.1573</td>\n",
       "    </tr>\n",
       "    <tr>\n",
       "      <th>58</th>\n",
       "      <td>Klf4</td>\n",
       "      <td>nexus/binary+profile-...</td>\n",
       "      <td>Recall @ 50% FDR</td>\n",
       "      <td>0.4537</td>\n",
       "    </tr>\n",
       "    <tr>\n",
       "      <th>59</th>\n",
       "      <td>Klf4</td>\n",
       "      <td>nexus/binary+profile-...</td>\n",
       "      <td>auROC</td>\n",
       "      <td>0.9610</td>\n",
       "    </tr>\n",
       "  </tbody>\n",
       "</table>\n",
       "<p>60 rows × 4 columns</p>\n",
       "</div>"
      ],
      "text/plain": [
       "      TF                  exp_name       metric_name   value\n",
       "0   Oct4              nexus/binary             auPRC  0.1851\n",
       "1   Oct4              nexus/binary  Recall @ 10% FDR  0.0011\n",
       "2   Oct4              nexus/binary  Recall @ 20% FDR  0.0072\n",
       "..   ...                       ...               ...     ...\n",
       "57  Klf4  nexus/binary+profile-...  Recall @ 20% FDR  0.1573\n",
       "58  Klf4  nexus/binary+profile-...  Recall @ 50% FDR  0.4537\n",
       "59  Klf4  nexus/binary+profile-...             auROC  0.9610\n",
       "\n",
       "[60 rows x 4 columns]"
      ]
     },
     "execution_count": 65,
     "metadata": {},
     "output_type": "execute_result"
    }
   ],
   "source": [
    "# TODO visualize the matrix\n",
    "dfp"
   ]
  },
  {
   "cell_type": "code",
   "execution_count": 66,
   "metadata": {},
   "outputs": [],
   "source": [
    "# task = 'Oct4'\n",
    "# y_true = df_bw_profile[f'{task}/class']\n",
    "# y_pred = df_bw_profile[f'predicted/{task}/class']\n",
    "# precision, recall, thresholds = precision_recall_curve(y_true[y_true != -1], y_pred[y_true != -1])"
   ]
  },
  {
   "cell_type": "code",
   "execution_count": 67,
   "metadata": {},
   "outputs": [],
   "source": [
    "df_list = []\n",
    "for task in tasks:\n",
    "    for method, df in zip(['nexus/binary', 'nexus/binary+profile', 'nexus/binary+profile-bias-corrected'],\n",
    "                          [df_bw, df_bw_profile, df_bw_profile_bias_corrected]):\n",
    "        y_true = df[f'{task}/class']\n",
    "        y_pred = df[f'predicted/{task}/class']\n",
    "        precision, recall, thresholds = precision_recall_curve(y_true[y_true != -1], y_pred[y_true != -1])\n",
    "        df_list.append(pd.DataFrame({'precision': precision,\n",
    "                                     'recall': recall,\n",
    "                                     'method': method,\n",
    "                                     'TF': task}))\n",
    "\n",
    "df = df_bw\n",
    "for task in tasks:\n",
    "    y_true = df[f'{task}/class']\n",
    "    y_pred = df[f'predicted/{task}/class'].sample(frac=1)\n",
    "    precision, recall, thresholds = precision_recall_curve(y_true[y_true != -1], y_pred[y_true != -1])\n",
    "    df_list.append(pd.DataFrame({'precision': precision,\n",
    "                             'recall': recall,\n",
    "                             'method': 'random',\n",
    "                             'TF': task}))"
   ]
  },
  {
   "cell_type": "code",
   "execution_count": 68,
   "metadata": {},
   "outputs": [],
   "source": [
    "df_pr = pd.concat(df_list, axis=0)\n",
    "df_pr['TF'] = pd.Categorical(df_pr['TF'], tasks)"
   ]
  },
  {
   "cell_type": "code",
   "execution_count": 73,
   "metadata": {},
   "outputs": [
    {
     "name": "stdout",
     "output_type": "stream",
     "text": [
      "method                               TF   \n",
      "nexus/binary                         Oct4     6859633\n",
      "                                     Sox2     6019405\n",
      "                                     Nanog    7918457\n",
      "                                     Klf4     7884160\n",
      "nexus/binary+profile                 Oct4     6948505\n",
      "                                     Sox2     5956955\n",
      "                                     Nanog    7970901\n",
      "                                     Klf4     7861113\n",
      "nexus/binary+profile-bias-corrected  Oct4     6879128\n",
      "                                     Sox2     5768594\n",
      "                                     Nanog    7406967\n",
      "                                     Klf4     7657729\n",
      "random                               Oct4     6860355\n",
      "                                     Sox2     6029538\n",
      "                                     Nanog    7919753\n",
      "                                     Klf4     7887028\n"
     ]
    }
   ],
   "source": [
    "print(df_pr.groupby(['method', 'TF']).size().to_string())"
   ]
  },
  {
   "cell_type": "code",
   "execution_count": 80,
   "metadata": {},
   "outputs": [
    {
     "data": {
      "image/png": "[encoded data removed]",
      "text/plain": [
       "<Figure size 342.519x85.6298 with 4 Axes>"
      ]
     },
     "metadata": {
      "image/png": {
       "height": 160,
       "width": 621
      }
     },
     "output_type": "display_data"
    },
    {
     "data": {
      "text/plain": [
       "<ggplot: (-9223363291994658367)>"
      ]
     },
     "execution_count": 80,
     "metadata": {},
     "output_type": "execute_result"
    }
   ],
   "source": [
    "fig = (ggplot(aes(x='recall', y='precision', color='method'),\n",
    "              data=df_pr.sample(frac=0.1))\n",
    "  + geom_line()\n",
    "  + facet_grid('. ~ TF')\n",
    "  + scale_x_continuous(breaks=[0, .5, 1])\n",
    "  + theme_classic()\n",
    "  + theme(figure_size=get_figsize(.5, aspect=0.25))\n",
    "  + scale_color_manual([colors[x] for x in gw_exp])\n",
    ")\n",
    "fig.save(fdir / 'auPRC.binary-vs-profile+binary-vs-bias-corrected.precision-recall.pdf')\n",
    "fig"
   ]
  },
  {
   "cell_type": "code",
   "execution_count": 67,
   "metadata": {},
   "outputs": [
    {
     "data": {
      "image/png": "[encoded data removed]",
      "text/plain": [
       "<Figure size 342.519x85.6298 with 4 Axes>"
      ]
     },
     "metadata": {
      "image/png": {
       "height": 145,
       "width": 529
      }
     },
     "output_type": "display_data"
    },
    {
     "data": {
      "text/plain": [
       "<ggplot: (8736536359993)>"
      ]
     },
     "execution_count": 67,
     "metadata": {},
     "output_type": "execute_result"
    }
   ],
   "source": [
    "fig = (ggplot(aes(x='recall', y='precision', color='method'),\n",
    "              data=df_pr.sample(frac=0.1))\n",
    "  + geom_line()\n",
    "  + facet_grid('. ~ TF')\n",
    "  + scale_x_continuous(breaks=[0, .5, 1])\n",
    "  + theme_classic()\n",
    "  + theme(figure_size=get_figsize(.5, aspect=0.25))\n",
    "  + scale_color_manual([colors[x] for x in gw_exp])\n",
    ")\n",
    "fig.save(fdir / 'auPRC.binary-vs-profile+binary.precision-recall.pdf')\n",
    "fig"
   ]
  },
  {
   "cell_type": "code",
   "execution_count": 69,
   "metadata": {},
   "outputs": [
    {
     "data": {
      "text/html": [
       "<div>\n",
       "<style scoped>\n",
       "    .dataframe tbody tr th:only-of-type {\n",
       "        vertical-align: middle;\n",
       "    }\n",
       "\n",
       "    .dataframe tbody tr th {\n",
       "        vertical-align: top;\n",
       "    }\n",
       "\n",
       "    .dataframe thead th {\n",
       "        text-align: right;\n",
       "    }\n",
       "</style>\n",
       "<table border=\"1\" class=\"dataframe\">\n",
       "  <thead>\n",
       "    <tr style=\"text-align: right;\">\n",
       "      <th></th>\n",
       "      <th>precision</th>\n",
       "      <th>recall</th>\n",
       "      <th>method</th>\n",
       "      <th>TF</th>\n",
       "    </tr>\n",
       "  </thead>\n",
       "  <tbody>\n",
       "    <tr>\n",
       "      <th>0</th>\n",
       "      <td>0.0069</td>\n",
       "      <td>1.0000</td>\n",
       "      <td>nexus/binary</td>\n",
       "      <td>Oct4</td>\n",
       "    </tr>\n",
       "    <tr>\n",
       "      <th>1</th>\n",
       "      <td>0.0071</td>\n",
       "      <td>0.9998</td>\n",
       "      <td>nexus/binary</td>\n",
       "      <td>Oct4</td>\n",
       "    </tr>\n",
       "    <tr>\n",
       "      <th>2</th>\n",
       "      <td>0.0071</td>\n",
       "      <td>0.9998</td>\n",
       "      <td>nexus/binary</td>\n",
       "      <td>Oct4</td>\n",
       "    </tr>\n",
       "    <tr>\n",
       "      <th>3</th>\n",
       "      <td>0.0071</td>\n",
       "      <td>0.9998</td>\n",
       "      <td>nexus/binary</td>\n",
       "      <td>Oct4</td>\n",
       "    </tr>\n",
       "    <tr>\n",
       "      <th>4</th>\n",
       "      <td>0.0071</td>\n",
       "      <td>0.9998</td>\n",
       "      <td>nexus/binary</td>\n",
       "      <td>Oct4</td>\n",
       "    </tr>\n",
       "  </tbody>\n",
       "</table>\n",
       "</div>"
      ],
      "text/plain": [
       "   precision  recall        method    TF\n",
       "0     0.0069  1.0000  nexus/binary  Oct4\n",
       "1     0.0071  0.9998  nexus/binary  Oct4\n",
       "2     0.0071  0.9998  nexus/binary  Oct4\n",
       "3     0.0071  0.9998  nexus/binary  Oct4\n",
       "4     0.0071  0.9998  nexus/binary  Oct4"
      ]
     },
     "execution_count": 69,
     "metadata": {},
     "output_type": "execute_result"
    }
   ],
   "source": [
    "df_pr.head()"
   ]
  },
  {
   "cell_type": "code",
   "execution_count": null,
   "metadata": {},
   "outputs": [],
   "source": [
    "precision, recall, thresholds = precision_recall_curve(y_true[y_true != -1], y_pred[y_true != -1])"
   ]
  },
  {
   "cell_type": "code",
   "execution_count": 76,
   "metadata": {},
   "outputs": [
    {
     "name": "stdout",
     "output_type": "stream",
     "text": [
      "method                TF   \n",
      "nexus/binary          Oct4     1.0713e-03\n",
      "                      Sox2     0.0000e+00\n",
      "                      Nanog    0.0000e+00\n",
      "                      Klf4     2.1543e-04\n",
      "nexus/binary+profile  Oct4     0.0000e+00\n",
      "                      Sox2     0.0000e+00\n",
      "                      Nanog    0.0000e+00\n",
      "                      Klf4     3.3797e-05\n",
      "random                Oct4     0.0000e+00\n",
      "                      Sox2     0.0000e+00\n",
      "                      Nanog    0.0000e+00\n",
      "                      Klf4     0.0000e+00\n"
     ]
    }
   ],
   "source": [
    "print(df_pr[df_pr.precision >= 0.9].groupby(['method', 'TF']).recall.max().to_string())"
   ]
  },
  {
   "cell_type": "code",
   "execution_count": 77,
   "metadata": {},
   "outputs": [
    {
     "name": "stdout",
     "output_type": "stream",
     "text": [
      "method                TF   \n",
      "nexus/binary          Oct4     0.0075\n",
      "                      Sox2     0.0000\n",
      "                      Nanog    0.0000\n",
      "                      Klf4     0.0973\n",
      "nexus/binary+profile  Oct4     0.0305\n",
      "                      Sox2     0.0000\n",
      "                      Nanog    0.0000\n",
      "                      Klf4     0.1497\n",
      "random                Oct4     0.0000\n",
      "                      Sox2     0.0000\n",
      "                      Nanog    0.0000\n",
      "                      Klf4     0.0000\n"
     ]
    }
   ],
   "source": [
    "print(df_pr[df_pr.precision >= 0.8].groupby(['method', 'TF']).recall.max().to_string())"
   ]
  },
  {
   "cell_type": "code",
   "execution_count": 78,
   "metadata": {},
   "outputs": [
    {
     "name": "stdout",
     "output_type": "stream",
     "text": [
      "method                TF   \n",
      "nexus/binary          Oct4     0.0667\n",
      "                      Sox2     0.0421\n",
      "                      Nanog    0.0902\n",
      "                      Klf4     0.4106\n",
      "nexus/binary+profile  Oct4     0.1464\n",
      "                      Sox2     0.1404\n",
      "                      Nanog    0.1551\n",
      "                      Klf4     0.4786\n",
      "random                Oct4     0.0000\n",
      "                      Sox2     0.0000\n",
      "                      Nanog    0.0000\n",
      "                      Klf4     0.0000\n"
     ]
    }
   ],
   "source": [
    "print(df_pr[df_pr.precision >= 0.5].groupby(['method', 'TF']).recall.max().to_string())"
   ]
  },
  {
   "cell_type": "code",
   "execution_count": 79,
   "metadata": {},
   "outputs": [],
   "source": [
    "# TODO - formalize these into actual metrics..."
   ]
  },
  {
   "cell_type": "code",
   "execution_count": 75,
   "metadata": {},
   "outputs": [],
   "source": [
    "# TODO - compute also auROC\n",
    "# TODO - compile a table of all the metrics"
   ]
  },
  {
   "cell_type": "code",
   "execution_count": 68,
   "metadata": {},
   "outputs": [
    {
     "data": {
      "text/html": [
       "<div>\n",
       "<style scoped>\n",
       "    .dataframe tbody tr th:only-of-type {\n",
       "        vertical-align: middle;\n",
       "    }\n",
       "\n",
       "    .dataframe tbody tr th {\n",
       "        vertical-align: top;\n",
       "    }\n",
       "\n",
       "    .dataframe thead th {\n",
       "        text-align: right;\n",
       "    }\n",
       "</style>\n",
       "<table border=\"1\" class=\"dataframe\">\n",
       "  <thead>\n",
       "    <tr style=\"text-align: right;\">\n",
       "      <th></th>\n",
       "      <th>TF</th>\n",
       "      <th>exp_name</th>\n",
       "      <th>value</th>\n",
       "    </tr>\n",
       "  </thead>\n",
       "  <tbody>\n",
       "    <tr>\n",
       "      <th>0</th>\n",
       "      <td>Oct4</td>\n",
       "      <td>nexus/binary</td>\n",
       "      <td>0.1846</td>\n",
       "    </tr>\n",
       "    <tr>\n",
       "      <th>1</th>\n",
       "      <td>Sox2</td>\n",
       "      <td>nexus/binary</td>\n",
       "      <td>0.1368</td>\n",
       "    </tr>\n",
       "    <tr>\n",
       "      <th>2</th>\n",
       "      <td>Nanog</td>\n",
       "      <td>nexus/binary</td>\n",
       "      <td>0.2213</td>\n",
       "    </tr>\n",
       "    <tr>\n",
       "      <th>3</th>\n",
       "      <td>Klf4</td>\n",
       "      <td>nexus/binary</td>\n",
       "      <td>0.4251</td>\n",
       "    </tr>\n",
       "    <tr>\n",
       "      <th>4</th>\n",
       "      <td>Oct4</td>\n",
       "      <td>nexus/binary+profile</td>\n",
       "      <td>0.2563</td>\n",
       "    </tr>\n",
       "  </tbody>\n",
       "</table>\n",
       "</div>"
      ],
      "text/plain": [
       "      TF              exp_name   value\n",
       "0   Oct4          nexus/binary  0.1846\n",
       "1   Sox2          nexus/binary  0.1368\n",
       "2  Nanog          nexus/binary  0.2213\n",
       "3   Klf4          nexus/binary  0.4251\n",
       "4   Oct4  nexus/binary+profile  0.2563"
      ]
     },
     "execution_count": 68,
     "metadata": {},
     "output_type": "execute_result"
    }
   ],
   "source": [
    "dfp.head()"
   ]
  },
  {
   "cell_type": "code",
   "execution_count": 58,
   "metadata": {},
   "outputs": [],
   "source": [
    "# \"precision, recall, FP, FN and Venn diagram visualizations for each TF\"\n",
    "# Compute recall@10%,20%FDR and 50%FDR (FDR=1-precision)\n",
    "# Also report baselind auPR = positives/total bins\n",
    "# And report auROC as well\n",
    "# Add a random baseline.\n"
   ]
  },
  {
   "cell_type": "code",
   "execution_count": null,
   "metadata": {},
   "outputs": [],
   "source": [
    "fig, axes = plt.subplots(1, len(tasks),\n",
    "                         figsize=get_figsize(.5, aspect=0.4))\n",
    "for (i, ax), (task, df) in zip(enumerate(axes), df_pr.groupby('TF')):\n",
    "    for method, dfs in df.sample(frac=0.01).groupby('method'):\n",
    "        ax.plot(dfs.recall, dfs.precision, label=method)\n",
    "        if i == 0:\n",
    "            ax.set_ylabel('Precision')\n",
    "            ax.set_xlabel('Recall')\n",
    "        ax.legend()\n",
    "        ax.set_title(task)\n",
    "    "
   ]
  },
  {
   "cell_type": "code",
   "execution_count": null,
   "metadata": {},
   "outputs": [],
   "source": [
    "task = 'Oct4'\n",
    "fig, axes = plt.subplots(1, len(tasks), figsize=get_figsize(.5))\n",
    "for ax, task in zip(axes, tasks):\n",
    "    dfsubs\n",
    "    y_true = df_bw_profile[f'{task}/class']\n",
    "    y_pred = df_bw_profile[f'predicted/{task}/class']\n",
    "    precision, recall, thresholds = precision_recall_curve(y_true[y_true != -1], y_pred[y_true != -1])\n",
    "    ax.plot(recall, precision, label='nexus/binary+profile')\n",
    "\n",
    "    y_true = df_bw[f'{task}/class']\n",
    "    y_pred = df_bw[f'predicted/{task}/class']\n",
    "    precision, recall, thresholds = precision_recall_curve(y_true[y_true != -1], y_pred[y_true != -1])\n",
    "    ax.plot(recall, precision, label='nexus/binary')\n",
    "    ax.set_xlabel('Recall')\n",
    "    ax.set_ylabel('Precision')\n",
    "    ax.legend()"
   ]
  },
  {
   "cell_type": "code",
   "execution_count": 71,
   "metadata": {},
   "outputs": [],
   "source": [
    "# Compute precision recall curves"
   ]
  },
  {
   "cell_type": "code",
   "execution_count": null,
   "metadata": {},
   "outputs": [],
   "source": []
  }
 ],
 "metadata": {
  "kernelspec": {
   "display_name": "Python [conda env:chipnexus]",
   "language": "python",
   "name": "conda-env-chipnexus-py"
  },
  "language_info": {
   "codemirror_mode": {
    "name": "ipython",
    "version": 3
   },
   "file_extension": ".py",
   "mimetype": "text/x-python",
   "name": "python",
   "nbconvert_exporter": "python",
   "pygments_lexer": "ipython3",
   "version": "3.6.8"
  }
 },
 "nbformat": 4,
 "nbformat_minor": 2
}
