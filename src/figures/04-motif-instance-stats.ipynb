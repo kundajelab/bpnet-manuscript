{
 "cells": [
  {
   "cell_type": "markdown",
   "metadata": {},
   "source": [
    "## Figures\n",
    "\n",
    "- Figure 2D,E\n",
    "\n",
    "\n",
    "## Required files\n",
    "\n",
    "- `{model_dir}/deeplift.imp_score.h5`\n",
    "- `{model_dir}/deeplift/dfi_subset.parq`\n",
    "\n",
    "## Produced files\n",
    "\n",
    "- Figure 2D\n",
    "  - `{ddir}/figures/modisco/{exp}/n-instances-per-motif.pdf`\n",
    "- Figure 2E\n",
    "  - `{ddir}/figures/modisco/{exp}/n-motifs-per-region.pdf`\n",
    "- track files\n",
    "  - `{ddir}/www/paper/data/tracks/regions.bed`\n",
    "  - `{ddir}/www/paper/data/tracks/motif-instances.bed`"
   ]
  },
  {
   "cell_type": "code",
   "execution_count": 6,
   "metadata": {
    "tags": [
     "parameters"
    ]
   },
   "outputs": [],
   "source": [
    "from collections import OrderedDict\n",
    "exp = 'nexus,peaks,OSNK,0,10,1,FALSE,same,0.5,64,25,0.004,9,FALSE,[1,50],TRUE'\n",
    "imp_score = 'profile/wn'\n",
    "\n",
    "motifs = OrderedDict([\n",
    "    (\"Oct4-Sox2\", 'Oct4/m0_p0'),\n",
    "    (\"Oct4\", \"Oct4/m0_p1\"),\n",
    "    (\"Oct4-Oct4\", \"Oct4/m0_p6\"),\n",
    "    (\"Sox2\", \"Sox2/m0_p1\"),\n",
    "    (\"Nanog\", \"Nanog/m0_p1\"),\n",
    "    (\"Nanog-partner\", \"Nanog/m0_p4\"),\n",
    "    (\"Klf4\", \"Klf4/m0_p0\"),\n",
    "    (\"Klf4-Klf4\", \"Klf4/m0_p5\"),\n",
    "    (\"B-Box\", \"Oct4/m0_p5\"),\n",
    "    (\"Zic3\", \"Nanog/m0_p2\"),\n",
    "    (\"Essrb\", \"Oct4/m0_p16\"),\n",
    "])"
   ]
  },
  {
   "cell_type": "markdown",
   "metadata": {},
   "source": [
    "## Export files"
   ]
  },
  {
   "cell_type": "code",
   "execution_count": 7,
   "metadata": {
    "tags": [
     "parameters"
    ]
   },
   "outputs": [],
   "source": [
    "# Imports\n",
    "from basepair.imports import *\n",
    "import pyranges as pr\n",
    "from basepair.modisco.pattern_instances import (multiple_load_instances, load_instances, filter_nonoverlapping_intervals, \n",
    "                                                plot_coocurence_matrix, align_instance_center, dfi2seqlets, annotate_profile)\n",
    "from basepair.exp.paper.config import *\n",
    "from basepair.cli.modisco import load_profiles\n",
    "from basepair.preproc import rc_seq, dfint_no_intersection\n",
    "from plotnine import *\n",
    "import plotnine\n",
    "import warnings\n",
    "warnings.filterwarnings(\"ignore\")\n",
    "\n",
    "%matplotlib inline\n",
    "%config InlineBackend.figure_format = 'retina'\n",
    "paper_config()\n",
    "\n",
    "# interval columns in dfi\n",
    "interval_cols = ['example_chrom', 'pattern_start_abs', 'pattern_end_abs']"
   ]
  },
  {
   "cell_type": "code",
   "execution_count": 23,
   "metadata": {},
   "outputs": [],
   "source": [
    "# figures dir\n",
    "model_dir = models_dir / exp\n",
    "fdir = Path(f'{ddir}/figures/modisco/{exp}/spacing/')\n",
    "!mkdir -p {fdir}"
   ]
  },
  {
   "cell_type": "code",
   "execution_count": 9,
   "metadata": {},
   "outputs": [],
   "source": [
    "from basepair.cli.imp_score import ImpScoreFile\n",
    "\n",
    "isf = ImpScoreFile(model_dir / 'deeplift.imp_score.h5')"
   ]
  },
  {
   "cell_type": "code",
   "execution_count": 10,
   "metadata": {},
   "outputs": [],
   "source": [
    "peaks_per_task = pd.value_counts(isf.data[\"/metadata/interval_from_task\"][:])"
   ]
  },
  {
   "cell_type": "code",
   "execution_count": 11,
   "metadata": {},
   "outputs": [],
   "source": [
    "task_map = {\"O\": \"Oct4\", \"S\": \"Sox2\", \"N\": \"Nanog\", \"K\": \"Klf4\"}\n",
    "# Figure out the tasks from the name\n",
    "tasks = [task_map[s] for s in exp.split(\",\")[2]]"
   ]
  },
  {
   "cell_type": "code",
   "execution_count": 12,
   "metadata": {},
   "outputs": [],
   "source": [
    "dfi_subset = pd.read_parquet(f\"{model_dir}/deeplift/dfi_subset.parq\", engine='fastparquet')\n",
    "dfi_subset['row_idx'] = np.arange(len(dfi_subset))\n",
    "\n",
    "dfi_subset['Chromosome'] = dfi_subset.example_chrom\n",
    "dfi_subset['Start'] = dfi_subset.pattern_start_abs\n",
    "dfi_subset['End'] = dfi_subset.pattern_end_abs\n",
    "dfi_subset_pr = pr.PyRanges(dfi_subset)"
   ]
  },
  {
   "cell_type": "code",
   "execution_count": 13,
   "metadata": {},
   "outputs": [],
   "source": [
    "assert len(dfi_subset.pattern.unique()) == len(motifs)"
   ]
  },
  {
   "cell_type": "code",
   "execution_count": 14,
   "metadata": {},
   "outputs": [],
   "source": [
    "dfi_subset_pr = pr.PyRanges(dfi_subset)"
   ]
  },
  {
   "cell_type": "code",
   "execution_count": 15,
   "metadata": {},
   "outputs": [
    {
     "data": {
      "text/plain": [
       "397924"
      ]
     },
     "execution_count": 15,
     "metadata": {},
     "output_type": "execute_result"
    }
   ],
   "source": [
    "# duplicated number of instances\n",
    "len(dfi_subset_pr)"
   ]
  },
  {
   "cell_type": "code",
   "execution_count": 16,
   "metadata": {},
   "outputs": [
    {
     "data": {
      "text/plain": [
       "241005"
      ]
     },
     "execution_count": 16,
     "metadata": {},
     "output_type": "execute_result"
    }
   ],
   "source": [
    "# non-duplicated number of instances\n",
    "len(dfi_subset_pr.drop_duplicate_positions())"
   ]
  },
  {
   "cell_type": "code",
   "execution_count": 17,
   "metadata": {},
   "outputs": [
    {
     "data": {
      "text/html": [
       "<div>\n",
       "<style scoped>\n",
       "    .dataframe tbody tr th:only-of-type {\n",
       "        vertical-align: middle;\n",
       "    }\n",
       "\n",
       "    .dataframe tbody tr th {\n",
       "        vertical-align: top;\n",
       "    }\n",
       "\n",
       "    .dataframe thead th {\n",
       "        text-align: right;\n",
       "    }\n",
       "</style>\n",
       "<table border=\"1\" class=\"dataframe\">\n",
       "  <thead>\n",
       "    <tr style=\"text-align: right;\">\n",
       "      <th></th>\n",
       "      <th>example_chrom</th>\n",
       "      <th>example_end</th>\n",
       "      <th>example_idx</th>\n",
       "      <th>example_interval_from_task</th>\n",
       "      <th>example_start</th>\n",
       "      <th>example_strand</th>\n",
       "      <th>imp/Klf4</th>\n",
       "      <th>imp/Nanog</th>\n",
       "      <th>imp/Oct4</th>\n",
       "      <th>imp/Sox2</th>\n",
       "      <th>imp_max</th>\n",
       "      <th>imp_max_task</th>\n",
       "      <th>imp_weighted</th>\n",
       "      <th>imp_weighted_cat</th>\n",
       "      <th>imp_weighted_p</th>\n",
       "      <th>match/Klf4</th>\n",
       "      <th>match/Nanog</th>\n",
       "      <th>match/Oct4</th>\n",
       "      <th>match/Sox2</th>\n",
       "      <th>match_max</th>\n",
       "      <th>match_max_task</th>\n",
       "      <th>match_weighted</th>\n",
       "      <th>match_weighted_cat</th>\n",
       "      <th>match_weighted_p</th>\n",
       "      <th>pattern</th>\n",
       "      <th>pattern_center</th>\n",
       "      <th>pattern_end</th>\n",
       "      <th>pattern_end_abs</th>\n",
       "      <th>pattern_len</th>\n",
       "      <th>pattern_name</th>\n",
       "      <th>pattern_short</th>\n",
       "      <th>pattern_start</th>\n",
       "      <th>pattern_start_abs</th>\n",
       "      <th>seq_match</th>\n",
       "      <th>seq_match_cat</th>\n",
       "      <th>seq_match_p</th>\n",
       "      <th>strand</th>\n",
       "      <th>tf</th>\n",
       "      <th>is_te</th>\n",
       "      <th>pattern_center_aln</th>\n",
       "      <th>pattern_strand_aln</th>\n",
       "      <th>row_idx</th>\n",
       "      <th>Chromosome</th>\n",
       "      <th>Start</th>\n",
       "      <th>End</th>\n",
       "    </tr>\n",
       "  </thead>\n",
       "  <tbody>\n",
       "    <tr>\n",
       "      <th>0</th>\n",
       "      <td>chr3</td>\n",
       "      <td>122146077</td>\n",
       "      <td>1</td>\n",
       "      <td>Oct4</td>\n",
       "      <td>122145077</td>\n",
       "      <td>.</td>\n",
       "      <td>NaN</td>\n",
       "      <td>NaN</td>\n",
       "      <td>0.9374</td>\n",
       "      <td>NaN</td>\n",
       "      <td>0.9374</td>\n",
       "      <td>Oct4</td>\n",
       "      <td>0.9374</td>\n",
       "      <td>high</td>\n",
       "      <td>0.8462</td>\n",
       "      <td>NaN</td>\n",
       "      <td>NaN</td>\n",
       "      <td>0.5077</td>\n",
       "      <td>NaN</td>\n",
       "      <td>0.5077</td>\n",
       "      <td>Oct4</td>\n",
       "      <td>0.5077</td>\n",
       "      <td>high</td>\n",
       "      <td>0.6886</td>\n",
       "      <td>Oct4/metacluster_0/pa...</td>\n",
       "      <td>430</td>\n",
       "      <td>438</td>\n",
       "      <td>122145515</td>\n",
       "      <td>16</td>\n",
       "      <td>Oct4-Sox2</td>\n",
       "      <td>Oct4/m0_p0</td>\n",
       "      <td>422</td>\n",
       "      <td>122145499</td>\n",
       "      <td>10.2722</td>\n",
       "      <td>high</td>\n",
       "      <td>0.6902</td>\n",
       "      <td>-</td>\n",
       "      <td>Oct4</td>\n",
       "      <td>False</td>\n",
       "      <td>429</td>\n",
       "      <td>-</td>\n",
       "      <td>0</td>\n",
       "      <td>chr3</td>\n",
       "      <td>122145499</td>\n",
       "      <td>122145515</td>\n",
       "    </tr>\n",
       "    <tr>\n",
       "      <th>1</th>\n",
       "      <td>chr3</td>\n",
       "      <td>122146077</td>\n",
       "      <td>1</td>\n",
       "      <td>Oct4</td>\n",
       "      <td>122145077</td>\n",
       "      <td>.</td>\n",
       "      <td>NaN</td>\n",
       "      <td>NaN</td>\n",
       "      <td>1.5355</td>\n",
       "      <td>NaN</td>\n",
       "      <td>1.5355</td>\n",
       "      <td>Oct4</td>\n",
       "      <td>1.5355</td>\n",
       "      <td>high</td>\n",
       "      <td>0.9920</td>\n",
       "      <td>NaN</td>\n",
       "      <td>NaN</td>\n",
       "      <td>0.5287</td>\n",
       "      <td>NaN</td>\n",
       "      <td>0.5287</td>\n",
       "      <td>Oct4</td>\n",
       "      <td>0.5287</td>\n",
       "      <td>high</td>\n",
       "      <td>0.7992</td>\n",
       "      <td>Oct4/metacluster_0/pa...</td>\n",
       "      <td>451</td>\n",
       "      <td>459</td>\n",
       "      <td>122145536</td>\n",
       "      <td>16</td>\n",
       "      <td>Oct4-Sox2</td>\n",
       "      <td>Oct4/m0_p0</td>\n",
       "      <td>443</td>\n",
       "      <td>122145520</td>\n",
       "      <td>11.5528</td>\n",
       "      <td>high</td>\n",
       "      <td>0.9044</td>\n",
       "      <td>-</td>\n",
       "      <td>Oct4</td>\n",
       "      <td>False</td>\n",
       "      <td>450</td>\n",
       "      <td>-</td>\n",
       "      <td>1</td>\n",
       "      <td>chr3</td>\n",
       "      <td>122145520</td>\n",
       "      <td>122145536</td>\n",
       "    </tr>\n",
       "    <tr>\n",
       "      <th>2</th>\n",
       "      <td>chr3</td>\n",
       "      <td>122146077</td>\n",
       "      <td>1</td>\n",
       "      <td>Oct4</td>\n",
       "      <td>122145077</td>\n",
       "      <td>.</td>\n",
       "      <td>NaN</td>\n",
       "      <td>NaN</td>\n",
       "      <td>1.2758</td>\n",
       "      <td>NaN</td>\n",
       "      <td>1.2758</td>\n",
       "      <td>Oct4</td>\n",
       "      <td>1.2758</td>\n",
       "      <td>high</td>\n",
       "      <td>0.9670</td>\n",
       "      <td>NaN</td>\n",
       "      <td>NaN</td>\n",
       "      <td>0.4219</td>\n",
       "      <td>NaN</td>\n",
       "      <td>0.4219</td>\n",
       "      <td>Oct4</td>\n",
       "      <td>0.4219</td>\n",
       "      <td>low</td>\n",
       "      <td>0.2234</td>\n",
       "      <td>Oct4/metacluster_0/pa...</td>\n",
       "      <td>492</td>\n",
       "      <td>500</td>\n",
       "      <td>122145577</td>\n",
       "      <td>16</td>\n",
       "      <td>Oct4-Sox2</td>\n",
       "      <td>Oct4/m0_p0</td>\n",
       "      <td>484</td>\n",
       "      <td>122145561</td>\n",
       "      <td>10.7122</td>\n",
       "      <td>high</td>\n",
       "      <td>0.7777</td>\n",
       "      <td>-</td>\n",
       "      <td>Oct4</td>\n",
       "      <td>False</td>\n",
       "      <td>491</td>\n",
       "      <td>-</td>\n",
       "      <td>2</td>\n",
       "      <td>chr3</td>\n",
       "      <td>122145561</td>\n",
       "      <td>122145577</td>\n",
       "    </tr>\n",
       "    <tr>\n",
       "      <th>3</th>\n",
       "      <td>chr3</td>\n",
       "      <td>122146077</td>\n",
       "      <td>1</td>\n",
       "      <td>Oct4</td>\n",
       "      <td>122145077</td>\n",
       "      <td>.</td>\n",
       "      <td>NaN</td>\n",
       "      <td>NaN</td>\n",
       "      <td>1.0455</td>\n",
       "      <td>NaN</td>\n",
       "      <td>1.0455</td>\n",
       "      <td>Oct4</td>\n",
       "      <td>1.0455</td>\n",
       "      <td>high</td>\n",
       "      <td>0.9050</td>\n",
       "      <td>NaN</td>\n",
       "      <td>NaN</td>\n",
       "      <td>0.4155</td>\n",
       "      <td>NaN</td>\n",
       "      <td>0.4155</td>\n",
       "      <td>Oct4</td>\n",
       "      <td>0.4155</td>\n",
       "      <td>low</td>\n",
       "      <td>0.2005</td>\n",
       "      <td>Oct4/metacluster_0/pa...</td>\n",
       "      <td>534</td>\n",
       "      <td>542</td>\n",
       "      <td>122145619</td>\n",
       "      <td>16</td>\n",
       "      <td>Oct4-Sox2</td>\n",
       "      <td>Oct4/m0_p0</td>\n",
       "      <td>526</td>\n",
       "      <td>122145603</td>\n",
       "      <td>10.2722</td>\n",
       "      <td>high</td>\n",
       "      <td>0.6902</td>\n",
       "      <td>-</td>\n",
       "      <td>Oct4</td>\n",
       "      <td>False</td>\n",
       "      <td>533</td>\n",
       "      <td>-</td>\n",
       "      <td>3</td>\n",
       "      <td>chr3</td>\n",
       "      <td>122145603</td>\n",
       "      <td>122145619</td>\n",
       "    </tr>\n",
       "    <tr>\n",
       "      <th>4</th>\n",
       "      <td>chr2</td>\n",
       "      <td>52072742</td>\n",
       "      <td>5</td>\n",
       "      <td>Oct4</td>\n",
       "      <td>52071742</td>\n",
       "      <td>.</td>\n",
       "      <td>NaN</td>\n",
       "      <td>NaN</td>\n",
       "      <td>1.4742</td>\n",
       "      <td>NaN</td>\n",
       "      <td>1.4742</td>\n",
       "      <td>Oct4</td>\n",
       "      <td>1.4742</td>\n",
       "      <td>high</td>\n",
       "      <td>0.9890</td>\n",
       "      <td>NaN</td>\n",
       "      <td>NaN</td>\n",
       "      <td>0.5071</td>\n",
       "      <td>NaN</td>\n",
       "      <td>0.5071</td>\n",
       "      <td>Oct4</td>\n",
       "      <td>0.5071</td>\n",
       "      <td>high</td>\n",
       "      <td>0.6851</td>\n",
       "      <td>Oct4/metacluster_0/pa...</td>\n",
       "      <td>516</td>\n",
       "      <td>524</td>\n",
       "      <td>52072266</td>\n",
       "      <td>16</td>\n",
       "      <td>Oct4-Sox2</td>\n",
       "      <td>Oct4/m0_p0</td>\n",
       "      <td>508</td>\n",
       "      <td>52072250</td>\n",
       "      <td>9.2183</td>\n",
       "      <td>medium</td>\n",
       "      <td>0.4731</td>\n",
       "      <td>+</td>\n",
       "      <td>Oct4</td>\n",
       "      <td>False</td>\n",
       "      <td>517</td>\n",
       "      <td>+</td>\n",
       "      <td>4</td>\n",
       "      <td>chr2</td>\n",
       "      <td>52072250</td>\n",
       "      <td>52072266</td>\n",
       "    </tr>\n",
       "  </tbody>\n",
       "</table>\n",
       "</div>"
      ],
      "text/plain": [
       "  example_chrom  example_end  example_idx example_interval_from_task  example_start  \\\n",
       "0          chr3    122146077            1                      Oct4       122145077   \n",
       "1          chr3    122146077            1                      Oct4       122145077   \n",
       "2          chr3    122146077            1                      Oct4       122145077   \n",
       "3          chr3    122146077            1                      Oct4       122145077   \n",
       "4          chr2     52072742            5                      Oct4        52071742   \n",
       "\n",
       "  example_strand  imp/Klf4  imp/Nanog  imp/Oct4  imp/Sox2  imp_max imp_max_task  imp_weighted  \\\n",
       "0              .       NaN        NaN    0.9374       NaN   0.9374         Oct4        0.9374   \n",
       "1              .       NaN        NaN    1.5355       NaN   1.5355         Oct4        1.5355   \n",
       "2              .       NaN        NaN    1.2758       NaN   1.2758         Oct4        1.2758   \n",
       "3              .       NaN        NaN    1.0455       NaN   1.0455         Oct4        1.0455   \n",
       "4              .       NaN        NaN    1.4742       NaN   1.4742         Oct4        1.4742   \n",
       "\n",
       "  imp_weighted_cat  imp_weighted_p  match/Klf4  match/Nanog  match/Oct4  match/Sox2  match_max  \\\n",
       "0             high          0.8462         NaN          NaN      0.5077         NaN     0.5077   \n",
       "1             high          0.9920         NaN          NaN      0.5287         NaN     0.5287   \n",
       "2             high          0.9670         NaN          NaN      0.4219         NaN     0.4219   \n",
       "3             high          0.9050         NaN          NaN      0.4155         NaN     0.4155   \n",
       "4             high          0.9890         NaN          NaN      0.5071         NaN     0.5071   \n",
       "\n",
       "  match_max_task  match_weighted match_weighted_cat  match_weighted_p                   pattern  \\\n",
       "0           Oct4          0.5077               high            0.6886  Oct4/metacluster_0/pa...   \n",
       "1           Oct4          0.5287               high            0.7992  Oct4/metacluster_0/pa...   \n",
       "2           Oct4          0.4219                low            0.2234  Oct4/metacluster_0/pa...   \n",
       "3           Oct4          0.4155                low            0.2005  Oct4/metacluster_0/pa...   \n",
       "4           Oct4          0.5071               high            0.6851  Oct4/metacluster_0/pa...   \n",
       "\n",
       "   pattern_center  pattern_end  pattern_end_abs  pattern_len pattern_name pattern_short  \\\n",
       "0             430          438        122145515           16    Oct4-Sox2    Oct4/m0_p0   \n",
       "1             451          459        122145536           16    Oct4-Sox2    Oct4/m0_p0   \n",
       "2             492          500        122145577           16    Oct4-Sox2    Oct4/m0_p0   \n",
       "3             534          542        122145619           16    Oct4-Sox2    Oct4/m0_p0   \n",
       "4             516          524         52072266           16    Oct4-Sox2    Oct4/m0_p0   \n",
       "\n",
       "   pattern_start  pattern_start_abs  seq_match seq_match_cat  seq_match_p strand    tf  is_te  \\\n",
       "0            422          122145499    10.2722          high       0.6902      -  Oct4  False   \n",
       "1            443          122145520    11.5528          high       0.9044      -  Oct4  False   \n",
       "2            484          122145561    10.7122          high       0.7777      -  Oct4  False   \n",
       "3            526          122145603    10.2722          high       0.6902      -  Oct4  False   \n",
       "4            508           52072250     9.2183        medium       0.4731      +  Oct4  False   \n",
       "\n",
       "   pattern_center_aln pattern_strand_aln  row_idx Chromosome      Start        End  \n",
       "0                 429                  -        0       chr3  122145499  122145515  \n",
       "1                 450                  -        1       chr3  122145520  122145536  \n",
       "2                 491                  -        2       chr3  122145561  122145577  \n",
       "3                 533                  -        3       chr3  122145603  122145619  \n",
       "4                 517                  +        4       chr2   52072250   52072266  "
      ]
     },
     "execution_count": 17,
     "metadata": {},
     "output_type": "execute_result"
    }
   ],
   "source": [
    "dfi_subset.head()"
   ]
  },
  {
   "cell_type": "code",
   "execution_count": 18,
   "metadata": {},
   "outputs": [
    {
     "data": {
      "text/plain": [
       "{'Klf4': 103044,\n",
       " 'Nanog': 76337,\n",
       " 'Oct4': 74594,\n",
       " 'Oct4-Sox2': 52475,\n",
       " 'Sox2': 40193,\n",
       " 'Zic3': 14927,\n",
       " 'Oct4-Oct4': 12511,\n",
       " 'B-Box': 7516,\n",
       " 'Nanog-partner': 7066,\n",
       " 'Essrb': 5353,\n",
       " 'Klf4-Klf4': 3908}"
      ]
     },
     "execution_count": 18,
     "metadata": {},
     "output_type": "execute_result"
    }
   ],
   "source": [
    "dict(dfi_subset.pattern_name.value_counts())"
   ]
  },
  {
   "cell_type": "code",
   "execution_count": 27,
   "metadata": {},
   "outputs": [
    {
     "data": {
      "image/png": "[encoded data removed]",
      "text/plain": [
       "<Figure size 157.559x97.3713 with 1 Axes>"
      ]
     },
     "metadata": {
      "image/png": {
       "height": 196,
       "width": 202
      }
     },
     "output_type": "display_data"
    }
   ],
   "source": [
    "fig, ax = plt.subplots(figsize=get_figsize(0.23))\n",
    "dfi_subset.pattern_name.value_counts().plot.bar(width=.9)\n",
    "plt.ylabel(\"Motif instances\")\n",
    "plt.xlabel(\"Motif\")\n",
    "fig.savefig(fdir / '../n-instances-per-motif.pdf')"
   ]
  },
  {
   "cell_type": "code",
   "execution_count": 103,
   "metadata": {},
   "outputs": [
    {
     "data": {
      "text/plain": [
       "136302"
      ]
     },
     "execution_count": 103,
     "metadata": {},
     "output_type": "execute_result"
    }
   ],
   "source": [
    "# Number of regions with a motif (total = 150k. Only 14k lack a motif)\n",
    "len(dfi_subset.groupby('example_idx').size())"
   ]
  },
  {
   "cell_type": "code",
   "execution_count": 104,
   "metadata": {},
   "outputs": [
    {
     "data": {
      "text/plain": [
       "2     35091\n",
       "3     31293\n",
       "1     27308\n",
       "      ...  \n",
       "17        1\n",
       "25        1\n",
       "30        1\n",
       "Length: 23, dtype: int64"
      ]
     },
     "execution_count": 104,
     "metadata": {},
     "output_type": "execute_result"
    }
   ],
   "source": [
    "dfi_subset.groupby('example_idx').size().value_counts()"
   ]
  },
  {
   "cell_type": "code",
   "execution_count": 113,
   "metadata": {},
   "outputs": [],
   "source": [
    "total_regions = len(ranges)"
   ]
  },
  {
   "cell_type": "code",
   "execution_count": 114,
   "metadata": {},
   "outputs": [
    {
     "data": {
      "image/png": "[encoded data removed]",
      "text/plain": [
       "<Figure size 274.015x169.341 with 1 Axes>"
      ]
     },
     "metadata": {
      "image/png": {
       "height": 183,
       "width": 286
      }
     },
     "output_type": "display_data"
    }
   ],
   "source": [
    "fig, ax = plt.subplots(figsize=get_figsize(0.4))\n",
    "vec = dfi_subset.groupby('example_idx').size()\n",
    "vec = pd.concat([vec, pd.Series(np.zeros(total_regions - len(vec)))])\n",
    "vec.plot.hist(bins=np.arange(11), rwidth=0.9, align='left')\n",
    "plt.xlabel(\"Number of motifs per region\")\n",
    "fig.savefig(fdir / '../n-motifs-per-region.pdf')"
   ]
  },
  {
   "cell_type": "code",
   "execution_count": 16,
   "metadata": {},
   "outputs": [
    {
     "data": {
      "text/html": [
       "<div>\n",
       "<style scoped>\n",
       "    .dataframe tbody tr th:only-of-type {\n",
       "        vertical-align: middle;\n",
       "    }\n",
       "\n",
       "    .dataframe tbody tr th {\n",
       "        vertical-align: top;\n",
       "    }\n",
       "\n",
       "    .dataframe thead th {\n",
       "        text-align: right;\n",
       "    }\n",
       "</style>\n",
       "<table border=\"1\" class=\"dataframe\">\n",
       "  <thead>\n",
       "    <tr style=\"text-align: right;\">\n",
       "      <th></th>\n",
       "      <th>example_chrom</th>\n",
       "      <th>example_end</th>\n",
       "      <th>example_idx</th>\n",
       "      <th>example_interval_from_task</th>\n",
       "      <th>example_start</th>\n",
       "      <th>example_strand</th>\n",
       "      <th>imp/Klf4</th>\n",
       "      <th>imp/Nanog</th>\n",
       "      <th>imp/Oct4</th>\n",
       "      <th>imp/Sox2</th>\n",
       "      <th>imp_max</th>\n",
       "      <th>imp_max_task</th>\n",
       "      <th>imp_weighted</th>\n",
       "      <th>imp_weighted_cat</th>\n",
       "      <th>imp_weighted_p</th>\n",
       "      <th>match/Klf4</th>\n",
       "      <th>match/Nanog</th>\n",
       "      <th>match/Oct4</th>\n",
       "      <th>match/Sox2</th>\n",
       "      <th>match_max</th>\n",
       "      <th>match_max_task</th>\n",
       "      <th>match_weighted</th>\n",
       "      <th>match_weighted_cat</th>\n",
       "      <th>match_weighted_p</th>\n",
       "      <th>pattern</th>\n",
       "      <th>pattern_center</th>\n",
       "      <th>pattern_end</th>\n",
       "      <th>pattern_end_abs</th>\n",
       "      <th>pattern_len</th>\n",
       "      <th>pattern_name</th>\n",
       "      <th>pattern_short</th>\n",
       "      <th>pattern_start</th>\n",
       "      <th>pattern_start_abs</th>\n",
       "      <th>seq_match</th>\n",
       "      <th>seq_match_cat</th>\n",
       "      <th>seq_match_p</th>\n",
       "      <th>strand</th>\n",
       "      <th>tf</th>\n",
       "      <th>is_te</th>\n",
       "      <th>pattern_center_aln</th>\n",
       "      <th>pattern_strand_aln</th>\n",
       "    </tr>\n",
       "  </thead>\n",
       "  <tbody>\n",
       "    <tr>\n",
       "      <th>0</th>\n",
       "      <td>chr3</td>\n",
       "      <td>122146077</td>\n",
       "      <td>1</td>\n",
       "      <td>Oct4</td>\n",
       "      <td>122145077</td>\n",
       "      <td>.</td>\n",
       "      <td>NaN</td>\n",
       "      <td>NaN</td>\n",
       "      <td>0.9374</td>\n",
       "      <td>NaN</td>\n",
       "      <td>0.9374</td>\n",
       "      <td>Oct4</td>\n",
       "      <td>0.9374</td>\n",
       "      <td>high</td>\n",
       "      <td>0.8462</td>\n",
       "      <td>NaN</td>\n",
       "      <td>NaN</td>\n",
       "      <td>0.5077</td>\n",
       "      <td>NaN</td>\n",
       "      <td>0.5077</td>\n",
       "      <td>Oct4</td>\n",
       "      <td>0.5077</td>\n",
       "      <td>high</td>\n",
       "      <td>0.6886</td>\n",
       "      <td>Oct4/metacluster_0/pa...</td>\n",
       "      <td>430</td>\n",
       "      <td>438</td>\n",
       "      <td>122145515</td>\n",
       "      <td>16</td>\n",
       "      <td>Oct4-Sox2</td>\n",
       "      <td>Oct4/m0_p0</td>\n",
       "      <td>422</td>\n",
       "      <td>122145499</td>\n",
       "      <td>10.2722</td>\n",
       "      <td>high</td>\n",
       "      <td>0.6902</td>\n",
       "      <td>-</td>\n",
       "      <td>Oct4</td>\n",
       "      <td>False</td>\n",
       "      <td>428</td>\n",
       "      <td>-</td>\n",
       "    </tr>\n",
       "    <tr>\n",
       "      <th>1</th>\n",
       "      <td>chr3</td>\n",
       "      <td>122146077</td>\n",
       "      <td>1</td>\n",
       "      <td>Oct4</td>\n",
       "      <td>122145077</td>\n",
       "      <td>.</td>\n",
       "      <td>NaN</td>\n",
       "      <td>NaN</td>\n",
       "      <td>1.5355</td>\n",
       "      <td>NaN</td>\n",
       "      <td>1.5355</td>\n",
       "      <td>Oct4</td>\n",
       "      <td>1.5355</td>\n",
       "      <td>high</td>\n",
       "      <td>0.9920</td>\n",
       "      <td>NaN</td>\n",
       "      <td>NaN</td>\n",
       "      <td>0.5287</td>\n",
       "      <td>NaN</td>\n",
       "      <td>0.5287</td>\n",
       "      <td>Oct4</td>\n",
       "      <td>0.5287</td>\n",
       "      <td>high</td>\n",
       "      <td>0.7992</td>\n",
       "      <td>Oct4/metacluster_0/pa...</td>\n",
       "      <td>451</td>\n",
       "      <td>459</td>\n",
       "      <td>122145536</td>\n",
       "      <td>16</td>\n",
       "      <td>Oct4-Sox2</td>\n",
       "      <td>Oct4/m0_p0</td>\n",
       "      <td>443</td>\n",
       "      <td>122145520</td>\n",
       "      <td>11.5528</td>\n",
       "      <td>high</td>\n",
       "      <td>0.9044</td>\n",
       "      <td>-</td>\n",
       "      <td>Oct4</td>\n",
       "      <td>False</td>\n",
       "      <td>449</td>\n",
       "      <td>-</td>\n",
       "    </tr>\n",
       "    <tr>\n",
       "      <th>2</th>\n",
       "      <td>chr3</td>\n",
       "      <td>122146077</td>\n",
       "      <td>1</td>\n",
       "      <td>Oct4</td>\n",
       "      <td>122145077</td>\n",
       "      <td>.</td>\n",
       "      <td>NaN</td>\n",
       "      <td>NaN</td>\n",
       "      <td>1.2758</td>\n",
       "      <td>NaN</td>\n",
       "      <td>1.2758</td>\n",
       "      <td>Oct4</td>\n",
       "      <td>1.2758</td>\n",
       "      <td>high</td>\n",
       "      <td>0.9670</td>\n",
       "      <td>NaN</td>\n",
       "      <td>NaN</td>\n",
       "      <td>0.4219</td>\n",
       "      <td>NaN</td>\n",
       "      <td>0.4219</td>\n",
       "      <td>Oct4</td>\n",
       "      <td>0.4219</td>\n",
       "      <td>low</td>\n",
       "      <td>0.2234</td>\n",
       "      <td>Oct4/metacluster_0/pa...</td>\n",
       "      <td>492</td>\n",
       "      <td>500</td>\n",
       "      <td>122145577</td>\n",
       "      <td>16</td>\n",
       "      <td>Oct4-Sox2</td>\n",
       "      <td>Oct4/m0_p0</td>\n",
       "      <td>484</td>\n",
       "      <td>122145561</td>\n",
       "      <td>10.7122</td>\n",
       "      <td>high</td>\n",
       "      <td>0.7777</td>\n",
       "      <td>-</td>\n",
       "      <td>Oct4</td>\n",
       "      <td>False</td>\n",
       "      <td>490</td>\n",
       "      <td>-</td>\n",
       "    </tr>\n",
       "    <tr>\n",
       "      <th>3</th>\n",
       "      <td>chr3</td>\n",
       "      <td>122146077</td>\n",
       "      <td>1</td>\n",
       "      <td>Oct4</td>\n",
       "      <td>122145077</td>\n",
       "      <td>.</td>\n",
       "      <td>NaN</td>\n",
       "      <td>NaN</td>\n",
       "      <td>1.0455</td>\n",
       "      <td>NaN</td>\n",
       "      <td>1.0455</td>\n",
       "      <td>Oct4</td>\n",
       "      <td>1.0455</td>\n",
       "      <td>high</td>\n",
       "      <td>0.9050</td>\n",
       "      <td>NaN</td>\n",
       "      <td>NaN</td>\n",
       "      <td>0.4155</td>\n",
       "      <td>NaN</td>\n",
       "      <td>0.4155</td>\n",
       "      <td>Oct4</td>\n",
       "      <td>0.4155</td>\n",
       "      <td>low</td>\n",
       "      <td>0.2005</td>\n",
       "      <td>Oct4/metacluster_0/pa...</td>\n",
       "      <td>534</td>\n",
       "      <td>542</td>\n",
       "      <td>122145619</td>\n",
       "      <td>16</td>\n",
       "      <td>Oct4-Sox2</td>\n",
       "      <td>Oct4/m0_p0</td>\n",
       "      <td>526</td>\n",
       "      <td>122145603</td>\n",
       "      <td>10.2722</td>\n",
       "      <td>high</td>\n",
       "      <td>0.6902</td>\n",
       "      <td>-</td>\n",
       "      <td>Oct4</td>\n",
       "      <td>False</td>\n",
       "      <td>532</td>\n",
       "      <td>-</td>\n",
       "    </tr>\n",
       "    <tr>\n",
       "      <th>4</th>\n",
       "      <td>chr2</td>\n",
       "      <td>52072742</td>\n",
       "      <td>5</td>\n",
       "      <td>Oct4</td>\n",
       "      <td>52071742</td>\n",
       "      <td>.</td>\n",
       "      <td>NaN</td>\n",
       "      <td>NaN</td>\n",
       "      <td>1.4742</td>\n",
       "      <td>NaN</td>\n",
       "      <td>1.4742</td>\n",
       "      <td>Oct4</td>\n",
       "      <td>1.4742</td>\n",
       "      <td>high</td>\n",
       "      <td>0.9890</td>\n",
       "      <td>NaN</td>\n",
       "      <td>NaN</td>\n",
       "      <td>0.5071</td>\n",
       "      <td>NaN</td>\n",
       "      <td>0.5071</td>\n",
       "      <td>Oct4</td>\n",
       "      <td>0.5071</td>\n",
       "      <td>high</td>\n",
       "      <td>0.6851</td>\n",
       "      <td>Oct4/metacluster_0/pa...</td>\n",
       "      <td>516</td>\n",
       "      <td>524</td>\n",
       "      <td>52072266</td>\n",
       "      <td>16</td>\n",
       "      <td>Oct4-Sox2</td>\n",
       "      <td>Oct4/m0_p0</td>\n",
       "      <td>508</td>\n",
       "      <td>52072250</td>\n",
       "      <td>9.2183</td>\n",
       "      <td>medium</td>\n",
       "      <td>0.4731</td>\n",
       "      <td>+</td>\n",
       "      <td>Oct4</td>\n",
       "      <td>False</td>\n",
       "      <td>518</td>\n",
       "      <td>+</td>\n",
       "    </tr>\n",
       "  </tbody>\n",
       "</table>\n",
       "</div>"
      ],
      "text/plain": [
       "  example_chrom  example_end  example_idx example_interval_from_task  example_start  \\\n",
       "0          chr3    122146077            1                      Oct4       122145077   \n",
       "1          chr3    122146077            1                      Oct4       122145077   \n",
       "2          chr3    122146077            1                      Oct4       122145077   \n",
       "3          chr3    122146077            1                      Oct4       122145077   \n",
       "4          chr2     52072742            5                      Oct4        52071742   \n",
       "\n",
       "  example_strand  imp/Klf4  imp/Nanog  imp/Oct4  imp/Sox2  imp_max imp_max_task  imp_weighted  \\\n",
       "0              .       NaN        NaN    0.9374       NaN   0.9374         Oct4        0.9374   \n",
       "1              .       NaN        NaN    1.5355       NaN   1.5355         Oct4        1.5355   \n",
       "2              .       NaN        NaN    1.2758       NaN   1.2758         Oct4        1.2758   \n",
       "3              .       NaN        NaN    1.0455       NaN   1.0455         Oct4        1.0455   \n",
       "4              .       NaN        NaN    1.4742       NaN   1.4742         Oct4        1.4742   \n",
       "\n",
       "  imp_weighted_cat  imp_weighted_p  match/Klf4  match/Nanog  match/Oct4  match/Sox2  match_max  \\\n",
       "0             high          0.8462         NaN          NaN      0.5077         NaN     0.5077   \n",
       "1             high          0.9920         NaN          NaN      0.5287         NaN     0.5287   \n",
       "2             high          0.9670         NaN          NaN      0.4219         NaN     0.4219   \n",
       "3             high          0.9050         NaN          NaN      0.4155         NaN     0.4155   \n",
       "4             high          0.9890         NaN          NaN      0.5071         NaN     0.5071   \n",
       "\n",
       "  match_max_task  match_weighted match_weighted_cat  match_weighted_p                   pattern  \\\n",
       "0           Oct4          0.5077               high            0.6886  Oct4/metacluster_0/pa...   \n",
       "1           Oct4          0.5287               high            0.7992  Oct4/metacluster_0/pa...   \n",
       "2           Oct4          0.4219                low            0.2234  Oct4/metacluster_0/pa...   \n",
       "3           Oct4          0.4155                low            0.2005  Oct4/metacluster_0/pa...   \n",
       "4           Oct4          0.5071               high            0.6851  Oct4/metacluster_0/pa...   \n",
       "\n",
       "   pattern_center  pattern_end  pattern_end_abs  pattern_len pattern_name pattern_short  \\\n",
       "0             430          438        122145515           16    Oct4-Sox2    Oct4/m0_p0   \n",
       "1             451          459        122145536           16    Oct4-Sox2    Oct4/m0_p0   \n",
       "2             492          500        122145577           16    Oct4-Sox2    Oct4/m0_p0   \n",
       "3             534          542        122145619           16    Oct4-Sox2    Oct4/m0_p0   \n",
       "4             516          524         52072266           16    Oct4-Sox2    Oct4/m0_p0   \n",
       "\n",
       "   pattern_start  pattern_start_abs  seq_match seq_match_cat  seq_match_p strand    tf  is_te  \\\n",
       "0            422          122145499    10.2722          high       0.6902      -  Oct4  False   \n",
       "1            443          122145520    11.5528          high       0.9044      -  Oct4  False   \n",
       "2            484          122145561    10.7122          high       0.7777      -  Oct4  False   \n",
       "3            526          122145603    10.2722          high       0.6902      -  Oct4  False   \n",
       "4            508           52072250     9.2183        medium       0.4731      +  Oct4  False   \n",
       "\n",
       "   pattern_center_aln pattern_strand_aln  \n",
       "0                 428                  -  \n",
       "1                 449                  -  \n",
       "2                 490                  -  \n",
       "3                 532                  -  \n",
       "4                 518                  +  "
      ]
     },
     "execution_count": 16,
     "metadata": {},
     "output_type": "execute_result"
    }
   ],
   "source": [
    "dfi_subset.head()"
   ]
  },
  {
   "cell_type": "code",
   "execution_count": 198,
   "metadata": {},
   "outputs": [
    {
     "data": {
      "text/plain": [
       "0.3593194359288779"
      ]
     },
     "execution_count": 198,
     "metadata": {},
     "output_type": "execute_result"
    }
   ],
   "source": [
    "19.535 / (212.63-196.32) * 0.3"
   ]
  },
  {
   "cell_type": "code",
   "execution_count": 199,
   "metadata": {},
   "outputs": [
    {
     "data": {
      "text/plain": [
       "0.06446965052115265"
      ]
     },
     "execution_count": 199,
     "metadata": {},
     "output_type": "execute_result"
    }
   ],
   "source": [
    "3.505 / (212.63-196.32) * 0.3"
   ]
  },
  {
   "cell_type": "code",
   "execution_count": 18,
   "metadata": {},
   "outputs": [
    {
     "data": {
      "text/html": [
       "<div>\n",
       "<style scoped>\n",
       "    .dataframe tbody tr th:only-of-type {\n",
       "        vertical-align: middle;\n",
       "    }\n",
       "\n",
       "    .dataframe tbody tr th {\n",
       "        vertical-align: top;\n",
       "    }\n",
       "\n",
       "    .dataframe thead th {\n",
       "        text-align: right;\n",
       "    }\n",
       "</style>\n",
       "<table border=\"1\" class=\"dataframe\">\n",
       "  <thead>\n",
       "    <tr style=\"text-align: right;\">\n",
       "      <th></th>\n",
       "      <th>pattern_name</th>\n",
       "      <th>example_idx</th>\n",
       "      <th>0</th>\n",
       "    </tr>\n",
       "  </thead>\n",
       "  <tbody>\n",
       "    <tr>\n",
       "      <th>0</th>\n",
       "      <td>B-Box</td>\n",
       "      <td>2</td>\n",
       "      <td>2</td>\n",
       "    </tr>\n",
       "    <tr>\n",
       "      <th>1</th>\n",
       "      <td>B-Box</td>\n",
       "      <td>4</td>\n",
       "      <td>2</td>\n",
       "    </tr>\n",
       "    <tr>\n",
       "      <th>2</th>\n",
       "      <td>B-Box</td>\n",
       "      <td>7</td>\n",
       "      <td>4</td>\n",
       "    </tr>\n",
       "    <tr>\n",
       "      <th>...</th>\n",
       "      <td>...</td>\n",
       "      <td>...</td>\n",
       "      <td>...</td>\n",
       "    </tr>\n",
       "    <tr>\n",
       "      <th>311598</th>\n",
       "      <td>Zic3</td>\n",
       "      <td>147928</td>\n",
       "      <td>1</td>\n",
       "    </tr>\n",
       "    <tr>\n",
       "      <th>311599</th>\n",
       "      <td>Zic3</td>\n",
       "      <td>147950</td>\n",
       "      <td>1</td>\n",
       "    </tr>\n",
       "    <tr>\n",
       "      <th>311600</th>\n",
       "      <td>Zic3</td>\n",
       "      <td>147966</td>\n",
       "      <td>1</td>\n",
       "    </tr>\n",
       "  </tbody>\n",
       "</table>\n",
       "<p>311601 rows × 3 columns</p>\n",
       "</div>"
      ],
      "text/plain": [
       "       pattern_name  example_idx  0\n",
       "0             B-Box            2  2\n",
       "1             B-Box            4  2\n",
       "2             B-Box            7  4\n",
       "...             ...          ... ..\n",
       "311598         Zic3       147928  1\n",
       "311599         Zic3       147950  1\n",
       "311600         Zic3       147966  1\n",
       "\n",
       "[311601 rows x 3 columns]"
      ]
     },
     "execution_count": 18,
     "metadata": {},
     "output_type": "execute_result"
    }
   ],
   "source": [
    "dfi_subset.groupby(['pattern_name', 'example_idx']).size().reset_index()"
   ]
  },
  {
   "cell_type": "code",
   "execution_count": null,
   "metadata": {},
   "outputs": [],
   "source": [
    "dfi_subset.head()"
   ]
  },
  {
   "cell_type": "code",
   "execution_count": 120,
   "metadata": {},
   "outputs": [
    {
     "data": {
      "image/png": "[encoded data removed]",
      "text/plain": [
       "<Figure size 220.582x389.485 with 4 Axes>"
      ]
     },
     "metadata": {
      "image/png": {
       "height": 352,
       "width": 281
      }
     },
     "output_type": "display_data"
    }
   ],
   "source": [
    "fig, axes = plt.subplots(len(tasks), 1, \n",
    "                         figsize=get_figsize(0.23*1.4, aspect=len(tasks)* 0.618/1.4),\n",
    "                         sharey=True,\n",
    "                         gridspec_kw=dict(hspace=0),\n",
    "                         sharex=True)\n",
    "for i, task in enumerate(tasks):\n",
    "    ax = axes[i]\n",
    "    vec = dfi_subset[dfi_subset.example_interval_from_task == task].groupby('example_idx').size()\n",
    "    vec = pd.concat([vec, pd.Series(np.zeros(peaks_per_task[task] - vec.index.nunique()))])\n",
    "    vec.plot.hist(bins=np.arange(10), rwidth=0.9, align='left', ax=ax)\n",
    "    ax.set_ylabel(task, rotation=0, labelpad=10, ha='right')\n",
    "ax.set_xlabel(\"Number of motifs per region\")\n",
    "fig.savefig(fdir / '../n-motifs-per-region.per-task.pdf')"
   ]
  },
  {
   "cell_type": "code",
   "execution_count": 121,
   "metadata": {},
   "outputs": [
    {
     "data": {
      "image/png": "[encoded data removed]",
      "text/plain": [
       "<Figure size 157.559x389.485 with 4 Axes>"
      ]
     },
     "metadata": {
      "image/png": {
       "height": 430,
       "width": 236
      }
     },
     "output_type": "display_data"
    }
   ],
   "source": [
    "fig, axes = plt.subplots(len(tasks), 1, \n",
    "                         figsize=get_figsize(0.23, aspect=len(tasks)* 0.618),\n",
    "                         sharey=True,\n",
    "                         gridspec_kw=dict(hspace=0),\n",
    "                         sharex=True)\n",
    "pattern_names = dfi_subset.pattern_name.unique()\n",
    "for i, task in enumerate(tasks):\n",
    "    ax = axes[i]\n",
    "    if i == 0:\n",
    "        ax.set_title(\"Total number of motifs\")\n",
    "    vec = dfi_subset[dfi_subset.example_interval_from_task == task].pattern_name.value_counts().reindex(pattern_names, fill_value=0)\n",
    "    vec.plot.bar(width=.9, ax=ax)\n",
    "    ax.set_ylabel(task, rotation=0, labelpad=10, ha='right')\n",
    "ax.set_xlabel(\"Motif\")\n",
    "fig.savefig(fdir / '../n-instances-per-motif.per-task.pdf')"
   ]
  },
  {
   "cell_type": "code",
   "execution_count": 122,
   "metadata": {},
   "outputs": [
    {
     "data": {
      "image/png": "[encoded data removed]",
      "text/plain": [
       "<Figure size 157.559x389.485 with 4 Axes>"
      ]
     },
     "metadata": {
      "image/png": {
       "height": 430,
       "width": 258
      }
     },
     "output_type": "display_data"
    }
   ],
   "source": [
    "fig, axes = plt.subplots(len(tasks), 1, \n",
    "                         figsize=get_figsize(0.23, aspect=len(tasks)* 0.618),\n",
    "                         sharey=True,\n",
    "                         gridspec_kw=dict(hspace=0),\n",
    "                         sharex=True)\n",
    "pattern_names = dfi_subset.pattern_name.unique()\n",
    "for i, task in enumerate(tasks):\n",
    "    ax = axes[i]\n",
    "    if i == 0:\n",
    "        ax.set_title(\"Average number of motifs per peak\")\n",
    "    vec = dfi_subset[dfi_subset.example_interval_from_task == task].pattern_name.value_counts().reindex(pattern_names, fill_value=0)\n",
    "    vec = vec / peaks_per_task[task]\n",
    "    vec.plot.bar(width=.9, ax=ax)\n",
    "    ax.set_ylabel(task, rotation=0, labelpad=10, ha='right')\n",
    "ax.set_xlabel(\"Motif\")\n",
    "\n",
    "fig.savefig(fdir / '../n-instances-per-motif.per-task.avg-motifs-per-peak.pdf')"
   ]
  },
  {
   "cell_type": "code",
   "execution_count": 16,
   "metadata": {},
   "outputs": [
    {
     "data": {
      "text/plain": [
       "72696"
      ]
     },
     "execution_count": 16,
     "metadata": {},
     "output_type": "execute_result"
    }
   ],
   "source": [
    "np.sum(dfi_subset.groupby('example_idx').size() >= 3)"
   ]
  },
  {
   "cell_type": "code",
   "execution_count": 19,
   "metadata": {},
   "outputs": [
    {
     "data": {
      "text/plain": [
       "0.4817239642696212"
      ]
     },
     "execution_count": 19,
     "metadata": {},
     "output_type": "execute_result"
    }
   ],
   "source": [
    "np.sum(dfi_subset.groupby('example_idx').size() >= 3) / 150908"
   ]
  },
  {
   "cell_type": "code",
   "execution_count": 18,
   "metadata": {},
   "outputs": [
    {
     "data": {
      "text/plain": [
       "20352"
      ]
     },
     "execution_count": 18,
     "metadata": {},
     "output_type": "execute_result"
    }
   ],
   "source": [
    "np.sum(dfi_subset.groupby('example_idx').size() >= 5)"
   ]
  },
  {
   "cell_type": "code",
   "execution_count": 17,
   "metadata": {},
   "outputs": [
    {
     "data": {
      "text/plain": [
       "0.48464"
      ]
     },
     "execution_count": 17,
     "metadata": {},
     "output_type": "execute_result"
    }
   ],
   "source": [
    "72696 / 150000"
   ]
  },
  {
   "cell_type": "markdown",
   "metadata": {},
   "source": [
    "### Export the files"
   ]
  },
  {
   "cell_type": "code",
   "execution_count": 32,
   "metadata": {},
   "outputs": [],
   "source": [
    "tracks_dir = Path(ddir) / 'www/paper/data/tracks'\n",
    "!mkdir -p {tracks_dir}"
   ]
  },
  {
   "cell_type": "code",
   "execution_count": 44,
   "metadata": {},
   "outputs": [],
   "source": [
    "bed_cols = ['Chromosome', 'Start', 'End', 'pattern_name', 'match_weighted_p', 'strand', 'imp_weighted_p', 'seq_match_p']\n",
    "duplicates = dfi_subset[bed_cols[:4]].duplicated()  # Drop duplicates\n",
    "dfi_subset[~duplicates][bed_cols].sort_values(bed_cols[:2]).to_csv(tracks_dir / \"motif-instances.bed\", sep='\\t', header=False, index=False)"
   ]
  },
  {
   "cell_type": "code",
   "execution_count": 45,
   "metadata": {},
   "outputs": [
    {
     "name": "stdout",
     "output_type": "stream",
     "text": [
      "chr1\t3062902\t3062942\tZic3\t0.7825581395348837\t+\t0.977906976744186\t0.9988372093023256\n",
      "chr1\t3062958\t3062974\tSox2\t0.8845577211394303\t-\t0.999000499750125\t1.0\n",
      "chr1\t3062975\t3063015\tZic3\t0.2127906976744186\t+\t0.8854651162790698\t0.17674418604651163\n",
      "chr1\t3062986\t3062996\tKlf4\t0.32804637934806385\t-\t0.65970247210676\t0.08663312185517393\n",
      "chr1\t3343656\t3343665\tNanog\t0.656429294633817\t-\t0.41444481943975703\t0.16199797502531219\n",
      "chr1\t3344270\t3344279\tNanog\t0.3742828214647317\t-\t0.7789402632467094\t0.44954438069524133\n",
      "chr1\t3344273\t3344289\tSox2\t0.9960019990004998\t+\t0.5822088955522239\t1.0\n",
      "chr1\t3344308\t3344348\tZic3\t0.8715116279069768\t-\t0.7127906976744186\t1.0\n",
      "chr1\t3344361\t3344376\tNanog-partner\t0.20212765957446807\t+\t0.06648936170212766\t0.013297872340425532\n",
      "chr1\t3344401\t3344410\tNanog\t0.2291596355045562\t-\t0.27505906176172795\t0.14039824502193723\n"
     ]
    }
   ],
   "source": [
    "!head {tracks_dir}/motif-instances.bed"
   ]
  },
  {
   "cell_type": "code",
   "execution_count": 46,
   "metadata": {},
   "outputs": [
    {
     "name": "stdout",
     "output_type": "stream",
     "text": [
      "241005 /users/avsec/workspace/basepair/data/www/paper/data/tracks/motif-instances.bed\n"
     ]
    }
   ],
   "source": [
    "!wc -l {tracks_dir}/motif-instances.bed"
   ]
  },
  {
   "cell_type": "code",
   "execution_count": 49,
   "metadata": {},
   "outputs": [],
   "source": [
    "# write out the region\n",
    "ranges = isf.get_ranges()\n",
    "ranges[['chrom', 'start', 'end', 'interval_from_task']].to_csv(tracks_dir / \"regions.bed\", sep='\\t', header=False, index=False)"
   ]
  },
  {
   "cell_type": "code",
   "execution_count": 54,
   "metadata": {},
   "outputs": [
    {
     "name": "stdout",
     "output_type": "stream",
     "text": [
      "147974 /users/avsec/workspace/basepair/data/www/paper/data/tracks/regions.bed\n"
     ]
    }
   ],
   "source": [
    "!wc -l {tracks_dir}/regions.bed"
   ]
  }
 ],
 "metadata": {
  "kernelspec": {
   "display_name": "Python [conda env:bpnet-manuscript]",
   "language": "python",
   "name": "conda-env-bpnet-manuscript-py"
  },
  "language_info": {
   "codemirror_mode": {
    "name": "ipython",
    "version": 3
   },
   "file_extension": ".py",
   "mimetype": "text/x-python",
   "name": "python",
   "nbconvert_exporter": "python",
   "pygments_lexer": "ipython3",
   "version": "3.6.8"
  }
 },
 "nbformat": 4,
 "nbformat_minor": 2
}
